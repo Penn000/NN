{
 "cells": [
  {
   "cell_type": "code",
   "execution_count": 1,
   "metadata": {
    "collapsed": true
   },
   "outputs": [],
   "source": [
    "import warnings\n",
    "warnings.filterwarnings('ignore')  # 不打印 warning \n",
    "\n",
    "import tensorflow as tf\n",
    "import numpy as np\n",
    "import cv2"
   ]
  },
  {
   "cell_type": "markdown",
   "metadata": {},
   "source": [
    "## VGG19网络结构\n",
    "\n",
    "下图E列为VGG19结构\n",
    "\n",
    "![vgg](vgg.jpeg)"
   ]
  },
  {
   "cell_type": "code",
   "execution_count": 2,
   "metadata": {},
   "outputs": [
    {
     "name": "stdout",
     "output_type": "stream",
     "text": [
      "conv1_1 (3, 3, 3, 64)\n",
      "conv1_2 (3, 3, 64, 64)\n",
      "conv2_1 (3, 3, 64, 128)\n",
      "conv2_2 (3, 3, 128, 128)\n",
      "conv3_1 (3, 3, 128, 256)\n",
      "conv3_2 (3, 3, 256, 256)\n",
      "conv3_3 (3, 3, 256, 256)\n",
      "conv3_4 (3, 3, 256, 256)\n",
      "conv4_1 (3, 3, 256, 512)\n",
      "conv4_2 (3, 3, 512, 512)\n",
      "conv4_3 (3, 3, 512, 512)\n",
      "conv4_4 (3, 3, 512, 512)\n",
      "conv5_1 (3, 3, 512, 512)\n",
      "conv5_2 (3, 3, 512, 512)\n",
      "conv5_3 (3, 3, 512, 512)\n",
      "conv5_4 (3, 3, 512, 512)\n",
      "fc6 (25088, 4096)\n",
      "fc7 (4096, 4096)\n",
      "fc8 (4096, 1000)\n"
     ]
    }
   ],
   "source": [
    "VGG_MEAN = [103.939, 116.779, 123.68]\n",
    "\n",
    "# vgg19.npy为在ImageNet上训练好的参数\n",
    "data_dict = np.load('./vgg19.npy', encoding='latin1').item()\n",
    "for key in sorted(data_dict.keys()):\n",
    "    print(key, data_dict[key][0].shape)"
   ]
  },
  {
   "cell_type": "code",
   "execution_count": 3,
   "metadata": {
    "collapsed": true
   },
   "outputs": [],
   "source": [
    "def get_conv_filter(name):\n",
    "    return tf.constant(data_dict[name][0], name='filter')"
   ]
  },
  {
   "cell_type": "code",
   "execution_count": 4,
   "metadata": {
    "collapsed": true
   },
   "outputs": [],
   "source": [
    "def get_biases(name):\n",
    "    return tf.constant(data_dict[name][1], name='biases')"
   ]
  },
  {
   "cell_type": "code",
   "execution_count": 5,
   "metadata": {
    "collapsed": true
   },
   "outputs": [],
   "source": [
    "def get_fc_weight(name):\n",
    "    return tf.constant(data_dict[name][0], name='weights')"
   ]
  },
  {
   "cell_type": "code",
   "execution_count": 6,
   "metadata": {
    "collapsed": true
   },
   "outputs": [],
   "source": [
    "def conv_layer(x_input, name):\n",
    "    with tf.variable_scope(name):\n",
    "        filt = get_conv_filter(name)\n",
    "        \n",
    "        layer = tf.nn.conv2d(x_input, filt, [1, 1, 1, 1], padding='SAME')\n",
    "        \n",
    "        conv_biases = get_biases(name)\n",
    "        layer = tf.nn.bias_add(layer, conv_biases)\n",
    "        \n",
    "        layer = tf.nn.relu(layer)\n",
    "        return layer"
   ]
  },
  {
   "cell_type": "code",
   "execution_count": 7,
   "metadata": {
    "collapsed": true
   },
   "outputs": [],
   "source": [
    "def fc_layer(x_input, name):\n",
    "    with tf.variable_scope(name):\n",
    "        shape = x_input.get_shape().as_list()\n",
    "        dim = 1\n",
    "        for d in shape[1:]:\n",
    "            dim *= d\n",
    "        x = tf.reshape(x_input, [-1, dim])\n",
    "        \n",
    "        w = get_fc_weight(name)\n",
    "        b = get_biases(name)\n",
    "        \n",
    "        fc = tf.nn.bias_add(tf.matmul(x, w), b)\n",
    "    return fc"
   ]
  },
  {
   "cell_type": "code",
   "execution_count": 8,
   "metadata": {
    "collapsed": true
   },
   "outputs": [],
   "source": [
    "def max_pool_layer(x_input, name):\n",
    "    return tf.nn.max_pool(x_input, ksize=[1, 2, 2, 1], strides=[1, 2, 2, 1], padding='SAME', name=name)"
   ]
  },
  {
   "cell_type": "code",
   "execution_count": 9,
   "metadata": {
    "collapsed": true
   },
   "outputs": [],
   "source": [
    "def avg_pool_layer(x_input, name):\n",
    "    return tf.nn.avg_pool(x_input, ksize=[1, 2, 2, 1], strides=[1, 2, 2, 1], padding='SAME', name=name)"
   ]
  },
  {
   "cell_type": "code",
   "execution_count": 13,
   "metadata": {
    "collapsed": true
   },
   "outputs": [],
   "source": [
    "def vgg19(rgb):\n",
    "    rgb_scaled = rgb * 255.0\n",
    "    \n",
    "    # Convert rgb to bgr\n",
    "    r, g, b = tf.split(axis=3, num_or_size_splits=3, value=rgb_scaled)\n",
    "    assert r.get_shape().as_list()[1:] == [224, 224, 1]\n",
    "    assert g.get_shape().as_list()[1:] == [224, 224, 1]\n",
    "    assert b.get_shape().as_list()[1:] == [224, 224, 1]\n",
    "    bgr = tf.concat(axis=3, values=[\n",
    "        b - VGG_MEAN[0],\n",
    "        g - VGG_MEAN[1],\n",
    "        r - VGG_MEAN[2],\n",
    "    ])\n",
    "    assert bgr.get_shape().as_list()[1:] == [224, 224, 3]\n",
    "    \n",
    "    conv1_1 = conv_layer(bgr, 'conv1_1')\n",
    "    conv1_2 = conv_layer(conv1_1, 'conv1_2')\n",
    "    pool1 = max_pool_layer(conv1_2, 'pool1')\n",
    "    \n",
    "    # \n",
    "    conv2_1 = conv_layer(pool1, 'conv2_1')\n",
    "    conv2_2 = conv_layer(conv2_1, 'conv2_2')\n",
    "    pool2 = max_pool_layer(conv2_2, 'pool2')\n",
    "    \n",
    "    #\n",
    "    conv3_1 = conv_layer(pool2, 'conv3_1')\n",
    "    conv3_2 = conv_layer(conv3_1, 'conv3_2')\n",
    "    conv3_3 = conv_layer(conv3_2, 'conv3_3')\n",
    "    conv3_4 = conv_layer(conv3_3, 'conv3_4')\n",
    "    pool3 = max_pool_layer(conv3_4, 'pool3')\n",
    "    \n",
    "    #\n",
    "    conv4_1 = conv_layer(pool3, 'conv4_1')\n",
    "    conv4_2 = conv_layer(conv4_1, 'conv4_2')\n",
    "    conv4_3 = conv_layer(conv4_2, 'conv4_3')\n",
    "    conv4_4 = conv_layer(conv4_3, 'conv4_4')\n",
    "    pool4 = max_pool_layer(conv4_4, 'pool4')\n",
    "    \n",
    "    #\n",
    "    conv5_1 = conv_layer(pool4, 'conv5_1')\n",
    "    conv5_2 = conv_layer(conv5_1, 'conv5_2')\n",
    "    conv5_3 = conv_layer(conv5_2, 'conv5_3')\n",
    "    conv5_4 = conv_layer(conv5_3, 'conv5_4')\n",
    "    pool5 = max_pool_layer(conv5_3, 'pool5')\n",
    "    \n",
    "    #\n",
    "    fc6 = fc_layer(pool5, 'fc6')\n",
    "    assert fc6.get_shape().as_list()[1:] == [4096]\n",
    "    relu6 = tf.nn.relu(fc6)\n",
    "    \n",
    "    fc7 = fc_layer(relu6, 'fc7')\n",
    "    relu7 = tf.nn.relu(fc7)\n",
    "    \n",
    "    fc8 = fc_layer(relu7, 'fc8')\n",
    "    \n",
    "    prob = tf.nn.softmax(fc8, name='prob')\n",
    "    \n",
    "    return prob"
   ]
  },
  {
   "cell_type": "markdown",
   "metadata": {},
   "source": [
    "## 测试"
   ]
  },
  {
   "cell_type": "code",
   "execution_count": 11,
   "metadata": {},
   "outputs": [
    {
     "name": "stdout",
     "output_type": "stream",
     "text": [
      "原始尺寸： (166, 304, 3)\n",
      "变换后尺寸： (224, 224, 3)\n"
     ]
    }
   ],
   "source": [
    "img = cv2.imread('./data/tiger.jpeg')\n",
    "print('原始尺寸：', img.shape)\n",
    "img = cv2.resize(img, (224, 224), interpolation=cv2.INTER_CUBIC)\n",
    "print('变换后尺寸：', img.shape)\n",
    "batch = img.reshape((1, 224, 224, 3))\n",
    "\n",
    "one_hot_label = [[1 if i == 292 else 0 for i in range(1000)]]"
   ]
  },
  {
   "cell_type": "code",
   "execution_count": 14,
   "metadata": {},
   "outputs": [
    {
     "name": "stdout",
     "output_type": "stream",
     "text": [
      "[118]\n"
     ]
    }
   ],
   "source": [
    "with tf.Session() as sess:\n",
    "    images = tf.placeholder(tf.float32, [None, 224, 224, 3])\n",
    "    \n",
    "    prob = vgg19(images)\n",
    "    res = sess.run(prob, feed_dict={images: batch})\n",
    "    print(sess.run(tf.argmax(res, 1)))"
   ]
  }
 ],
 "metadata": {
  "kernelspec": {
   "display_name": "Python 3",
   "language": "python",
   "name": "python3"
  },
  "language_info": {
   "codemirror_mode": {
    "name": "ipython",
    "version": 3
   },
   "file_extension": ".py",
   "mimetype": "text/x-python",
   "name": "python",
   "nbconvert_exporter": "python",
   "pygments_lexer": "ipython3",
   "version": "3.6.1"
  }
 },
 "nbformat": 4,
 "nbformat_minor": 2
}
