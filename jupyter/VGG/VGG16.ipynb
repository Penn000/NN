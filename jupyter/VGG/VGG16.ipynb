{
 "cells": [
  {
   "cell_type": "code",
   "execution_count": 1,
   "metadata": {},
   "outputs": [],
   "source": [
    "import warnings\n",
    "warnings.filterwarnings('ignore')  # 不打印 warning \n",
    "\n",
    "import tensorflow as tf\n",
    "import numpy as np\n",
    "import cv2"
   ]
  },
  {
   "cell_type": "markdown",
   "metadata": {},
   "source": [
    "## VGG16网络结构\n",
    "\n",
    "下图D列为VGG16结构\n",
    "\n",
    "![vgg](vgg.jpeg)"
   ]
  },
  {
   "cell_type": "code",
   "execution_count": 2,
   "metadata": {},
   "outputs": [],
   "source": [
    "data_dict = np.load('./vgg16.npy', encoding='latin1').item()\n",
    "\n",
    "VGG_MEAN = [103.939, 116.779, 123.68]"
   ]
  },
  {
   "cell_type": "code",
   "execution_count": 16,
   "metadata": {},
   "outputs": [
    {
     "name": "stdout",
     "output_type": "stream",
     "text": [
      "<class 'dict'>\n",
      "conv5_1\n",
      "fc6\n",
      "conv5_3\n",
      "conv5_2\n",
      "fc8\n",
      "fc7\n",
      "conv4_1\n",
      "conv4_2\n",
      "conv4_3\n",
      "conv3_3\n",
      "conv3_2\n",
      "conv3_1\n",
      "conv1_1\n",
      "conv1_2\n",
      "conv2_2\n",
      "conv2_1\n"
     ]
    }
   ],
   "source": [
    "print(type(data_dict))\n",
    "for key in data_dict.keys():\n",
    "    print(key)"
   ]
  },
  {
   "cell_type": "code",
   "execution_count": 3,
   "metadata": {
    "collapsed": true
   },
   "outputs": [],
   "source": [
    "def get_conv_filter(name):\n",
    "    return tf.constant(data_dict[name][0], name='filter')"
   ]
  },
  {
   "cell_type": "code",
   "execution_count": 4,
   "metadata": {
    "collapsed": true
   },
   "outputs": [],
   "source": [
    "def get_biases(name):\n",
    "    return tf.constant(data_dict[name][1], name='biases')"
   ]
  },
  {
   "cell_type": "code",
   "execution_count": 5,
   "metadata": {
    "collapsed": true
   },
   "outputs": [],
   "source": [
    "def get_fc_weight(name):\n",
    "    return tf.constant(data_dict[name][0], name='weights')"
   ]
  },
  {
   "cell_type": "code",
   "execution_count": 6,
   "metadata": {
    "collapsed": true
   },
   "outputs": [],
   "source": [
    "def conv_layer(x_input, name):\n",
    "    with tf.variable_scope(name):\n",
    "        filt = get_conv_filter(name)\n",
    "        \n",
    "        layer = tf.nn.conv2d(x_input, filt, [1, 1, 1, 1], padding='SAME')\n",
    "        \n",
    "        conv_biases = get_biases(name)\n",
    "        layer = tf.nn.bias_add(layer, conv_biases)\n",
    "        \n",
    "        layer = tf.nn.relu(layer)\n",
    "        return layer"
   ]
  },
  {
   "cell_type": "code",
   "execution_count": 7,
   "metadata": {
    "collapsed": true
   },
   "outputs": [],
   "source": [
    "def fc_layer(x_input, name):\n",
    "    with tf.variable_scope(name):\n",
    "        shape = x_input.get_shape().as_list()\n",
    "        dim = 1\n",
    "        for d in shape[1:]:\n",
    "            dim *= d\n",
    "        x = tf.reshape(x_input, [-1, dim])\n",
    "        \n",
    "        w = get_fc_weight(name)\n",
    "        b = get_biases(name)\n",
    "        \n",
    "        fc = tf.nn.bias_add(tf.matmul(x, w), b)\n",
    "    return fc"
   ]
  },
  {
   "cell_type": "code",
   "execution_count": 8,
   "metadata": {
    "collapsed": true
   },
   "outputs": [],
   "source": [
    "def max_pool_layer(x_input, name):\n",
    "    return tf.nn.max_pool(x_input, ksize=[1, 2, 2, 1], strides=[1, 2, 2, 1], padding='SAME', name=name)"
   ]
  },
  {
   "cell_type": "code",
   "execution_count": 9,
   "metadata": {
    "collapsed": true
   },
   "outputs": [],
   "source": [
    "def avg_pool_layer(x_input, name):\n",
    "    return tf.nn.avg_pool(x_input, ksize=[1, 2, 2, 1], strides=[1, 2, 2, 1], padding='SAME', name=name)"
   ]
  },
  {
   "cell_type": "code",
   "execution_count": 17,
   "metadata": {
    "collapsed": true
   },
   "outputs": [],
   "source": [
    "def vgg16(rgb):\n",
    "    rgb_scaled = rgb * 255.0\n",
    "    \n",
    "    # Convert rgb to bgr\n",
    "    r, g, b = tf.split(axis=3, num_or_size_splits=3, value=rgb_scaled)\n",
    "    assert r.get_shape().as_list()[1:] == [224, 224, 1]\n",
    "    assert g.get_shape().as_list()[1:] == [224, 224, 1]\n",
    "    assert b.get_shape().as_list()[1:] == [224, 224, 1]\n",
    "    bgr = tf.concat(axis=3, values=[\n",
    "        b - VGG_MEAN[0],\n",
    "        g - VGG_MEAN[1],\n",
    "        r - VGG_MEAN[2],\n",
    "    ])\n",
    "    assert bgr.get_shape().as_list()[1:] == [224, 224, 3]\n",
    "    \n",
    "    conv1_1 = conv_layer(bgr, 'conv1_1')\n",
    "    conv1_2 = conv_layer(conv1_1, 'conv1_2')\n",
    "    pool1 = max_pool_layer(conv1_2, 'pool1')\n",
    "    \n",
    "    # \n",
    "    conv2_1 = conv_layer(pool1, 'conv2_1')\n",
    "    conv2_2 = conv_layer(conv2_1, 'conv2_2')\n",
    "    pool2 = max_pool_layer(conv2_2, 'pool2')\n",
    "    \n",
    "    #\n",
    "    conv3_1 = conv_layer(pool2, 'conv3_1')\n",
    "    conv3_2 = conv_layer(conv3_1, 'conv3_2')\n",
    "    conv3_3 = conv_layer(conv3_2, 'conv3_3')\n",
    "    pool3 = max_pool_layer(conv3_3, 'pool3')\n",
    "    \n",
    "    #\n",
    "    conv4_1 = conv_layer(pool3, 'conv4_1')\n",
    "    conv4_2 = conv_layer(conv4_1, 'conv4_2')\n",
    "    conv4_3 = conv_layer(conv4_2, 'conv4_3')\n",
    "    pool4 = max_pool_layer(conv4_3, 'pool4')\n",
    "    \n",
    "    #\n",
    "    conv5_1 = conv_layer(pool4, 'conv5_1')\n",
    "    conv5_2 = conv_layer(conv5_1, 'conv5_2')\n",
    "    conv5_3 = conv_layer(conv5_2, 'conv5_3')\n",
    "    pool5 = max_pool_layer(conv5_3, 'pool5')\n",
    "    \n",
    "    #\n",
    "    fc6 = fc_layer(pool5, 'fc6')\n",
    "    assert fc6.get_shape().as_list()[1:] == [4096]\n",
    "    relu6 = tf.nn.relu(fc6)\n",
    "    \n",
    "    fc7 = fc_layer(relu6, 'fc7')\n",
    "    relu7 = tf.nn.relu(fc7)\n",
    "    \n",
    "    fc8 = fc_layer(relu7, 'fc8')\n",
    "    \n",
    "    prob = tf.nn.softmax(fc8, name='prob')\n",
    "    \n",
    "    return prob"
   ]
  },
  {
   "cell_type": "markdown",
   "metadata": {},
   "source": [
    "## 训练与测试\n",
    "\n",
    "### 数据"
   ]
  },
  {
   "cell_type": "code",
   "execution_count": 11,
   "metadata": {},
   "outputs": [
    {
     "name": "stdout",
     "output_type": "stream",
     "text": [
      "原始尺寸： (166, 304, 3)\n",
      "变换后尺寸： (224, 224, 3)\n"
     ]
    }
   ],
   "source": [
    "img = cv2.imread('./data/tiger.jpeg')\n",
    "print('原始尺寸：', img.shape)\n",
    "img = cv2.resize(img, (224, 224), interpolation=cv2.INTER_CUBIC)\n",
    "print('变换后尺寸：', img.shape)\n",
    "batch = img.reshape((1, 224, 224, 3))\n",
    "\n",
    "one_hot_label = [[1 if i == 292 else 0 for i in range(1000)]]"
   ]
  },
  {
   "cell_type": "code",
   "execution_count": 18,
   "metadata": {},
   "outputs": [
    {
     "ename": "ValueError",
     "evalue": "No variables to optimize.",
     "output_type": "error",
     "traceback": [
      "\u001b[0;31m---------------------------------------------------------------------------\u001b[0m",
      "\u001b[0;31mValueError\u001b[0m                                Traceback (most recent call last)",
      "\u001b[0;32m<ipython-input-18-a2b570de8f6e>\u001b[0m in \u001b[0;36m<module>\u001b[0;34m()\u001b[0m\n\u001b[1;32m      8\u001b[0m     \u001b[0mprob\u001b[0m \u001b[0;34m=\u001b[0m \u001b[0mvgg16\u001b[0m\u001b[0;34m(\u001b[0m\u001b[0mimages\u001b[0m\u001b[0;34m)\u001b[0m\u001b[0;34m\u001b[0m\u001b[0m\n\u001b[1;32m      9\u001b[0m     \u001b[0mloss\u001b[0m \u001b[0;34m=\u001b[0m \u001b[0mtf\u001b[0m\u001b[0;34m.\u001b[0m\u001b[0mreduce_sum\u001b[0m\u001b[0;34m(\u001b[0m\u001b[0;34m(\u001b[0m\u001b[0mprob\u001b[0m \u001b[0;34m-\u001b[0m \u001b[0mground_truth\u001b[0m\u001b[0;34m)\u001b[0m \u001b[0;34m**\u001b[0m \u001b[0;36m2\u001b[0m\u001b[0;34m)\u001b[0m\u001b[0;34m\u001b[0m\u001b[0m\n\u001b[0;32m---> 10\u001b[0;31m     \u001b[0mtrain\u001b[0m \u001b[0;34m=\u001b[0m \u001b[0mtf\u001b[0m\u001b[0;34m.\u001b[0m\u001b[0mtrain\u001b[0m\u001b[0;34m.\u001b[0m\u001b[0mGradientDescentOptimizer\u001b[0m\u001b[0;34m(\u001b[0m\u001b[0mlearning_rate\u001b[0m\u001b[0;34m=\u001b[0m\u001b[0;36m0.001\u001b[0m\u001b[0;34m)\u001b[0m\u001b[0;34m.\u001b[0m\u001b[0mminimize\u001b[0m\u001b[0;34m(\u001b[0m\u001b[0mloss\u001b[0m\u001b[0;34m)\u001b[0m\u001b[0;34m\u001b[0m\u001b[0m\n\u001b[0m\u001b[1;32m     11\u001b[0m \u001b[0;34m\u001b[0m\u001b[0m\n\u001b[1;32m     12\u001b[0m     \u001b[0msess\u001b[0m\u001b[0;34m.\u001b[0m\u001b[0mrun\u001b[0m\u001b[0;34m(\u001b[0m\u001b[0mtf\u001b[0m\u001b[0;34m.\u001b[0m\u001b[0mglobal_variables_initializer\u001b[0m\u001b[0;34m(\u001b[0m\u001b[0;34m)\u001b[0m\u001b[0;34m)\u001b[0m\u001b[0;34m\u001b[0m\u001b[0m\n",
      "\u001b[0;32m/home/penn000/anaconda3/lib/python3.6/site-packages/tensorflow/python/training/optimizer.py\u001b[0m in \u001b[0;36mminimize\u001b[0;34m(self, loss, global_step, var_list, gate_gradients, aggregation_method, colocate_gradients_with_ops, name, grad_loss)\u001b[0m\n\u001b[1;32m    398\u001b[0m         \u001b[0maggregation_method\u001b[0m\u001b[0;34m=\u001b[0m\u001b[0maggregation_method\u001b[0m\u001b[0;34m,\u001b[0m\u001b[0;34m\u001b[0m\u001b[0m\n\u001b[1;32m    399\u001b[0m         \u001b[0mcolocate_gradients_with_ops\u001b[0m\u001b[0;34m=\u001b[0m\u001b[0mcolocate_gradients_with_ops\u001b[0m\u001b[0;34m,\u001b[0m\u001b[0;34m\u001b[0m\u001b[0m\n\u001b[0;32m--> 400\u001b[0;31m         grad_loss=grad_loss)\n\u001b[0m\u001b[1;32m    401\u001b[0m \u001b[0;34m\u001b[0m\u001b[0m\n\u001b[1;32m    402\u001b[0m     \u001b[0mvars_with_grad\u001b[0m \u001b[0;34m=\u001b[0m \u001b[0;34m[\u001b[0m\u001b[0mv\u001b[0m \u001b[0;32mfor\u001b[0m \u001b[0mg\u001b[0m\u001b[0;34m,\u001b[0m \u001b[0mv\u001b[0m \u001b[0;32min\u001b[0m \u001b[0mgrads_and_vars\u001b[0m \u001b[0;32mif\u001b[0m \u001b[0mg\u001b[0m \u001b[0;32mis\u001b[0m \u001b[0;32mnot\u001b[0m \u001b[0;32mNone\u001b[0m\u001b[0;34m]\u001b[0m\u001b[0;34m\u001b[0m\u001b[0m\n",
      "\u001b[0;32m/home/penn000/anaconda3/lib/python3.6/site-packages/tensorflow/python/training/optimizer.py\u001b[0m in \u001b[0;36mcompute_gradients\u001b[0;34m(self, loss, var_list, gate_gradients, aggregation_method, colocate_gradients_with_ops, grad_loss)\u001b[0m\n\u001b[1;32m    511\u001b[0m     \u001b[0mprocessors\u001b[0m \u001b[0;34m=\u001b[0m \u001b[0;34m[\u001b[0m\u001b[0m_get_processor\u001b[0m\u001b[0;34m(\u001b[0m\u001b[0mv\u001b[0m\u001b[0;34m)\u001b[0m \u001b[0;32mfor\u001b[0m \u001b[0mv\u001b[0m \u001b[0;32min\u001b[0m \u001b[0mvar_list\u001b[0m\u001b[0;34m]\u001b[0m\u001b[0;34m\u001b[0m\u001b[0m\n\u001b[1;32m    512\u001b[0m     \u001b[0;32mif\u001b[0m \u001b[0;32mnot\u001b[0m \u001b[0mvar_list\u001b[0m\u001b[0;34m:\u001b[0m\u001b[0;34m\u001b[0m\u001b[0m\n\u001b[0;32m--> 513\u001b[0;31m       \u001b[0;32mraise\u001b[0m \u001b[0mValueError\u001b[0m\u001b[0;34m(\u001b[0m\u001b[0;34m\"No variables to optimize.\"\u001b[0m\u001b[0;34m)\u001b[0m\u001b[0;34m\u001b[0m\u001b[0m\n\u001b[0m\u001b[1;32m    514\u001b[0m     \u001b[0mvar_refs\u001b[0m \u001b[0;34m=\u001b[0m \u001b[0;34m[\u001b[0m\u001b[0mp\u001b[0m\u001b[0;34m.\u001b[0m\u001b[0mtarget\u001b[0m\u001b[0;34m(\u001b[0m\u001b[0;34m)\u001b[0m \u001b[0;32mfor\u001b[0m \u001b[0mp\u001b[0m \u001b[0;32min\u001b[0m \u001b[0mprocessors\u001b[0m\u001b[0;34m]\u001b[0m\u001b[0;34m\u001b[0m\u001b[0m\n\u001b[1;32m    515\u001b[0m     grads = gradients.gradients(\n",
      "\u001b[0;31mValueError\u001b[0m: No variables to optimize."
     ]
    }
   ],
   "source": [
    "n_step = 10\n",
    "n_show_step = 1\n",
    "\n",
    "with tf.Session() as sess:\n",
    "    images = tf.placeholder(tf.float32, [None, 224, 224, 3])\n",
    "    ground_truth = tf.placeholder(tf.float32, [None, 1000])\n",
    "    \n",
    "    prob = vgg16(images)\n",
    "    loss = tf.reduce_sum((prob - ground_truth) ** 2)\n",
    "    train = tf.train.GradientDescentOptimizer(learning_rate=0.001).minimize(loss)\n",
    "    \n",
    "    sess.run(tf.global_variables_initializer())\n",
    "    for i in range(n_step):\n",
    "        sess.run(train, feed_dict={images: batch, ground_truth: one_hot_label})\n",
    "        if i % n_show_step == 0:\n",
    "            print(sess.run(loss, feed_dict={images: batch, ground_truth: one_hot_label}))\n",
    "    "
   ]
  },
  {
   "cell_type": "code",
   "execution_count": null,
   "metadata": {
    "collapsed": true
   },
   "outputs": [],
   "source": []
  }
 ],
 "metadata": {
  "kernelspec": {
   "display_name": "Python 3",
   "language": "python",
   "name": "python3"
  },
  "language_info": {
   "codemirror_mode": {
    "name": "ipython",
    "version": 3
   },
   "file_extension": ".py",
   "mimetype": "text/x-python",
   "name": "python",
   "nbconvert_exporter": "python",
   "pygments_lexer": "ipython3",
   "version": "3.6.1"
  }
 },
 "nbformat": 4,
 "nbformat_minor": 2
}
