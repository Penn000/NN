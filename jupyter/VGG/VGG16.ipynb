{
 "cells": [
  {
   "cell_type": "code",
   "execution_count": 36,
   "metadata": {
    "collapsed": true
   },
   "outputs": [],
   "source": [
    "import tensorflow as tf\n",
    "import numpy as np\n",
    "import cv2\n",
    "\n",
    "import warnings\n",
    "warnings.filterwarnings('ignore')  # 不打印 warning "
   ]
  },
  {
   "cell_type": "markdown",
   "metadata": {},
   "source": [
    "## VGG16网络结构"
   ]
  },
  {
   "cell_type": "code",
   "execution_count": 37,
   "metadata": {},
   "outputs": [
    {
     "ename": "FileNotFoundError",
     "evalue": "[Errno 2] No such file or directory: './vgg16.npy'",
     "output_type": "error",
     "traceback": [
      "\u001b[0;31m---------------------------------------------------------------------------\u001b[0m",
      "\u001b[0;31mFileNotFoundError\u001b[0m                         Traceback (most recent call last)",
      "\u001b[0;32m<ipython-input-37-434e4036b1b0>\u001b[0m in \u001b[0;36m<module>\u001b[0;34m()\u001b[0m\n\u001b[0;32m----> 1\u001b[0;31m \u001b[0mdata_dict\u001b[0m \u001b[0;34m=\u001b[0m \u001b[0mnp\u001b[0m\u001b[0;34m.\u001b[0m\u001b[0mload\u001b[0m\u001b[0;34m(\u001b[0m\u001b[0;34m'./vgg16.npy'\u001b[0m\u001b[0;34m,\u001b[0m \u001b[0mencoding\u001b[0m\u001b[0;34m=\u001b[0m\u001b[0;34m'latin1'\u001b[0m\u001b[0;34m)\u001b[0m\u001b[0;34m.\u001b[0m\u001b[0mitem\u001b[0m\u001b[0;34m(\u001b[0m\u001b[0;34m)\u001b[0m\u001b[0;34m\u001b[0m\u001b[0m\n\u001b[0m\u001b[1;32m      2\u001b[0m \u001b[0;34m\u001b[0m\u001b[0m\n\u001b[1;32m      3\u001b[0m \u001b[0mVGG_MEAN\u001b[0m \u001b[0;34m=\u001b[0m \u001b[0;34m[\u001b[0m\u001b[0;36m103.939\u001b[0m\u001b[0;34m,\u001b[0m \u001b[0;36m116.779\u001b[0m\u001b[0;34m,\u001b[0m \u001b[0;36m123.68\u001b[0m\u001b[0;34m]\u001b[0m\u001b[0;34m\u001b[0m\u001b[0m\n",
      "\u001b[0;32m/home/penn000/anaconda3/lib/python3.6/site-packages/numpy/lib/npyio.py\u001b[0m in \u001b[0;36mload\u001b[0;34m(file, mmap_mode, allow_pickle, fix_imports, encoding)\u001b[0m\n\u001b[1;32m    382\u001b[0m     \u001b[0mown_fid\u001b[0m \u001b[0;34m=\u001b[0m \u001b[0;32mFalse\u001b[0m\u001b[0;34m\u001b[0m\u001b[0m\n\u001b[1;32m    383\u001b[0m     \u001b[0;32mif\u001b[0m \u001b[0misinstance\u001b[0m\u001b[0;34m(\u001b[0m\u001b[0mfile\u001b[0m\u001b[0;34m,\u001b[0m \u001b[0mbasestring\u001b[0m\u001b[0;34m)\u001b[0m\u001b[0;34m:\u001b[0m\u001b[0;34m\u001b[0m\u001b[0m\n\u001b[0;32m--> 384\u001b[0;31m         \u001b[0mfid\u001b[0m \u001b[0;34m=\u001b[0m \u001b[0mopen\u001b[0m\u001b[0;34m(\u001b[0m\u001b[0mfile\u001b[0m\u001b[0;34m,\u001b[0m \u001b[0;34m\"rb\"\u001b[0m\u001b[0;34m)\u001b[0m\u001b[0;34m\u001b[0m\u001b[0m\n\u001b[0m\u001b[1;32m    385\u001b[0m         \u001b[0mown_fid\u001b[0m \u001b[0;34m=\u001b[0m \u001b[0;32mTrue\u001b[0m\u001b[0;34m\u001b[0m\u001b[0m\n\u001b[1;32m    386\u001b[0m     \u001b[0;32melif\u001b[0m \u001b[0mis_pathlib_path\u001b[0m\u001b[0;34m(\u001b[0m\u001b[0mfile\u001b[0m\u001b[0;34m)\u001b[0m\u001b[0;34m:\u001b[0m\u001b[0;34m\u001b[0m\u001b[0m\n",
      "\u001b[0;31mFileNotFoundError\u001b[0m: [Errno 2] No such file or directory: './vgg16.npy'"
     ]
    }
   ],
   "source": [
    "data_dict = np.load('./vgg16.npy', encoding='latin1').item()\n",
    "\n",
    "VGG_MEAN = [103.939, 116.779, 123.68]"
   ]
  },
  {
   "cell_type": "code",
   "execution_count": 38,
   "metadata": {
    "collapsed": true
   },
   "outputs": [],
   "source": [
    "def get_conv_filter(name):\n",
    "    return tf.constant(data_dict[name][0], name='filter')"
   ]
  },
  {
   "cell_type": "code",
   "execution_count": 39,
   "metadata": {
    "collapsed": true
   },
   "outputs": [],
   "source": [
    "def get_biases(name):\n",
    "    return tf.constant(data_dict[name][1], name='biases')"
   ]
  },
  {
   "cell_type": "code",
   "execution_count": 40,
   "metadata": {
    "collapsed": true
   },
   "outputs": [],
   "source": [
    "def get_fc_weight(name):\n",
    "    return tf.constant(data_dict[name][0], name='weights')"
   ]
  },
  {
   "cell_type": "code",
   "execution_count": 41,
   "metadata": {
    "collapsed": true
   },
   "outputs": [],
   "source": [
    "def conv_layer(x_input, name):\n",
    "    with tf.variable_scope(name):\n",
    "        filt = get_conv_filter(name)\n",
    "        \n",
    "        layer = tf.nn.conv2d(x_input, filt, [1, 1, 1, 1], padding='SAME')\n",
    "        \n",
    "        conv_biases = get_biases(name)\n",
    "        layer = tf.nn.bias_add(layer, conv_biases)\n",
    "        \n",
    "        layer = tf.nn.relu(layer)\n",
    "        return layer"
   ]
  },
  {
   "cell_type": "code",
   "execution_count": 42,
   "metadata": {
    "collapsed": true
   },
   "outputs": [],
   "source": [
    "def fc_layer(x_input, name):\n",
    "    with tf.variable_scope(name):\n",
    "        shape = x_input.get_shape().as_list()\n",
    "        dim = 1\n",
    "        for d in shape[1:]:\n",
    "            dim *= d\n",
    "        x = tf.reshape(x_input, [-1, dim])\n",
    "        \n",
    "        w = get_fc_weight(name)\n",
    "        b = get_biases(name)\n",
    "        \n",
    "        fc = tf.nn.bias_add(tf.matmul(x, w), b)\n",
    "    return fc"
   ]
  },
  {
   "cell_type": "code",
   "execution_count": 43,
   "metadata": {
    "collapsed": true
   },
   "outputs": [],
   "source": [
    "def max_pool_layer(x_input, name):\n",
    "    return tf.nn.max_pool(x_input, ksize=[1, 2, 2, 1], strides=[1, 2, 2, 1], padding='SAME', name=name)"
   ]
  },
  {
   "cell_type": "code",
   "execution_count": 44,
   "metadata": {
    "collapsed": true
   },
   "outputs": [],
   "source": [
    "def avg_pool_layer(x_input, name):\n",
    "    return tf.nn.avg_pool(x_input, ksize=[1, 2, 2, 1], strides=[1, 2, 2, 1], padding='SAME', name=name)"
   ]
  },
  {
   "cell_type": "code",
   "execution_count": 45,
   "metadata": {
    "collapsed": true
   },
   "outputs": [],
   "source": [
    "def vgg16(rgb):\n",
    "    rgb_scaled = rgb * 255.0\n",
    "    \n",
    "    # Convert rgb to bgr\n",
    "    r, g, b = tf.split(axis=3, num_or_size_splits=3, value=rgb_scaled)\n",
    "    assert r.get_shape().as_list()[1:] == [224, 224, 1]\n",
    "    assert g.get_shape().as_list()[1:] == [224, 224, 1]\n",
    "    assert b.get_shape().as_list()[1:] == [224, 224, 1]\n",
    "    bgr = tf.concat(axis=3, values=[\n",
    "        b - VGG_MEAN[0],\n",
    "        g - VGG_MEAN[1],\n",
    "        r - VGG_MEAN[2],\n",
    "    ])\n",
    "    assert bgr.get_get_shape().as_list()[1:] == [224, 224, 3]\n",
    "    \n",
    "    conv1_1 = conv_layer(bgr, 'conv1_1')\n",
    "    conv1_2 = conv_layer(conv1_1, 'conv1_2')\n",
    "    pool1 = max_pool_layer(conv1_2, 'pool1')\n",
    "    \n",
    "    # \n",
    "    conv2_1 = conv_layer(pool1, 'conv2_1')\n",
    "    conv2_2 = conv_layer(conv2_1, 'conv2_2')\n",
    "    pool2 = max_pool_layer(conv2_2, 'pool2')\n",
    "    \n",
    "    #\n",
    "    conv3_1 = conv_layer(pool2, 'conv3_1')\n",
    "    conv3_2 = conv_layer(conv3_1, 'conv3_2')\n",
    "    conv3_3 = conv_layer(conv3_2, 'conv3_3')\n",
    "    pool3 = max_pool_layer(conv3_3, 'pool3')\n",
    "    \n",
    "    #\n",
    "    conv4_1 = conv_layer(pool3, 'conv4_1')\n",
    "    conv4_2 = conv_layer(conv4_1, 'conv4_2')\n",
    "    conv4_3 = conv_layer(conv4_2, 'conv4_3')\n",
    "    pool4 = max_pool_layer(conv4_3, 'pool4')\n",
    "    \n",
    "    #\n",
    "    conv5_1 = conv_layer(pool4, 'conv5_1')\n",
    "    conv5_2 = conv_layer(conv5_1, 'conv5_2')\n",
    "    conv5_3 = conv_layer(conv5_2, 'conv5_3')\n",
    "    pool5 = max_pool_layer(conv5_3, 'pool5')\n",
    "    \n",
    "    #\n",
    "    fc6 = fc_layer(pool, 'fc6')\n",
    "    assert fc6.get_shape().as_list()[1:] == [4096]\n",
    "    relu6 = tf.nn.relu(fc6)\n",
    "    \n",
    "    fc7 = fc_layer(relu7, 'fc7')\n",
    "    relu7 = tf.nn.relu(fc7)\n",
    "    \n",
    "    fc8 = fc_layer(relu7, 'fc8')\n",
    "    \n",
    "    prob = tf.nn.softmax(fc8, name='prob')\n",
    "    \n",
    "    return prob"
   ]
  },
  {
   "cell_type": "markdown",
   "metadata": {},
   "source": [
    "## 训练与测试\n",
    "\n",
    "### 数据"
   ]
  },
  {
   "cell_type": "code",
   "execution_count": 46,
   "metadata": {},
   "outputs": [
    {
     "name": "stdout",
     "output_type": "stream",
     "text": [
      "原始尺寸： (166, 304, 3)\n",
      "变换后尺寸： (224, 224, 3)\n"
     ]
    }
   ],
   "source": [
    "img = cv2.imread('./data/tiger.jpeg')\n",
    "print('原始尺寸：', img.shape)\n",
    "img = cv2.resize(img, (224, 224), interpolation=cv2.INTER_CUBIC)\n",
    "print('变换后尺寸：', img.shape)\n",
    "batch = img.reshape((1, 224, 224, 3))\n",
    "\n",
    "one_hot_label = [[1 if i == 292 else 0 for i in range(1000)]]"
   ]
  },
  {
   "cell_type": "code",
   "execution_count": 47,
   "metadata": {},
   "outputs": [
    {
     "ename": "AttributeError",
     "evalue": "'Tensor' object has no attribute 'get_get_shape'",
     "output_type": "error",
     "traceback": [
      "\u001b[0;31m---------------------------------------------------------------------------\u001b[0m",
      "\u001b[0;31mAttributeError\u001b[0m                            Traceback (most recent call last)",
      "\u001b[0;32m<ipython-input-47-a2b570de8f6e>\u001b[0m in \u001b[0;36m<module>\u001b[0;34m()\u001b[0m\n\u001b[1;32m      6\u001b[0m     \u001b[0mground_truth\u001b[0m \u001b[0;34m=\u001b[0m \u001b[0mtf\u001b[0m\u001b[0;34m.\u001b[0m\u001b[0mplaceholder\u001b[0m\u001b[0;34m(\u001b[0m\u001b[0mtf\u001b[0m\u001b[0;34m.\u001b[0m\u001b[0mfloat32\u001b[0m\u001b[0;34m,\u001b[0m \u001b[0;34m[\u001b[0m\u001b[0;32mNone\u001b[0m\u001b[0;34m,\u001b[0m \u001b[0;36m1000\u001b[0m\u001b[0;34m]\u001b[0m\u001b[0;34m)\u001b[0m\u001b[0;34m\u001b[0m\u001b[0m\n\u001b[1;32m      7\u001b[0m \u001b[0;34m\u001b[0m\u001b[0m\n\u001b[0;32m----> 8\u001b[0;31m     \u001b[0mprob\u001b[0m \u001b[0;34m=\u001b[0m \u001b[0mvgg16\u001b[0m\u001b[0;34m(\u001b[0m\u001b[0mimages\u001b[0m\u001b[0;34m)\u001b[0m\u001b[0;34m\u001b[0m\u001b[0m\n\u001b[0m\u001b[1;32m      9\u001b[0m     \u001b[0mloss\u001b[0m \u001b[0;34m=\u001b[0m \u001b[0mtf\u001b[0m\u001b[0;34m.\u001b[0m\u001b[0mreduce_sum\u001b[0m\u001b[0;34m(\u001b[0m\u001b[0;34m(\u001b[0m\u001b[0mprob\u001b[0m \u001b[0;34m-\u001b[0m \u001b[0mground_truth\u001b[0m\u001b[0;34m)\u001b[0m \u001b[0;34m**\u001b[0m \u001b[0;36m2\u001b[0m\u001b[0;34m)\u001b[0m\u001b[0;34m\u001b[0m\u001b[0m\n\u001b[1;32m     10\u001b[0m     \u001b[0mtrain\u001b[0m \u001b[0;34m=\u001b[0m \u001b[0mtf\u001b[0m\u001b[0;34m.\u001b[0m\u001b[0mtrain\u001b[0m\u001b[0;34m.\u001b[0m\u001b[0mGradientDescentOptimizer\u001b[0m\u001b[0;34m(\u001b[0m\u001b[0mlearning_rate\u001b[0m\u001b[0;34m=\u001b[0m\u001b[0;36m0.001\u001b[0m\u001b[0;34m)\u001b[0m\u001b[0;34m.\u001b[0m\u001b[0mminimize\u001b[0m\u001b[0;34m(\u001b[0m\u001b[0mloss\u001b[0m\u001b[0;34m)\u001b[0m\u001b[0;34m\u001b[0m\u001b[0m\n",
      "\u001b[0;32m<ipython-input-45-5a1d4b032708>\u001b[0m in \u001b[0;36mvgg16\u001b[0;34m(rgb)\u001b[0m\n\u001b[1;32m     12\u001b[0m         \u001b[0mr\u001b[0m \u001b[0;34m-\u001b[0m \u001b[0mVGG_MEAN\u001b[0m\u001b[0;34m[\u001b[0m\u001b[0;36m2\u001b[0m\u001b[0;34m]\u001b[0m\u001b[0;34m,\u001b[0m\u001b[0;34m\u001b[0m\u001b[0m\n\u001b[1;32m     13\u001b[0m     ])\n\u001b[0;32m---> 14\u001b[0;31m     \u001b[0;32massert\u001b[0m \u001b[0mbgr\u001b[0m\u001b[0;34m.\u001b[0m\u001b[0mget_get_shape\u001b[0m\u001b[0;34m(\u001b[0m\u001b[0;34m)\u001b[0m\u001b[0;34m.\u001b[0m\u001b[0mas_list\u001b[0m\u001b[0;34m(\u001b[0m\u001b[0;34m)\u001b[0m\u001b[0;34m[\u001b[0m\u001b[0;36m1\u001b[0m\u001b[0;34m:\u001b[0m\u001b[0;34m]\u001b[0m \u001b[0;34m==\u001b[0m \u001b[0;34m[\u001b[0m\u001b[0;36m224\u001b[0m\u001b[0;34m,\u001b[0m \u001b[0;36m224\u001b[0m\u001b[0;34m,\u001b[0m \u001b[0;36m3\u001b[0m\u001b[0;34m]\u001b[0m\u001b[0;34m\u001b[0m\u001b[0m\n\u001b[0m\u001b[1;32m     15\u001b[0m \u001b[0;34m\u001b[0m\u001b[0m\n\u001b[1;32m     16\u001b[0m     \u001b[0mconv1_1\u001b[0m \u001b[0;34m=\u001b[0m \u001b[0mconv_layer\u001b[0m\u001b[0;34m(\u001b[0m\u001b[0mbgr\u001b[0m\u001b[0;34m,\u001b[0m \u001b[0;34m'conv1_1'\u001b[0m\u001b[0;34m)\u001b[0m\u001b[0;34m\u001b[0m\u001b[0m\n",
      "\u001b[0;31mAttributeError\u001b[0m: 'Tensor' object has no attribute 'get_get_shape'"
     ]
    }
   ],
   "source": [
    "n_step = 10\n",
    "n_show_step = 1\n",
    "\n",
    "with tf.Session() as sess:\n",
    "    images = tf.placeholder(tf.float32, [None, 224, 224, 3])\n",
    "    ground_truth = tf.placeholder(tf.float32, [None, 1000])\n",
    "    \n",
    "    prob = vgg16(images)\n",
    "    loss = tf.reduce_sum((prob - ground_truth) ** 2)\n",
    "    train = tf.train.GradientDescentOptimizer(learning_rate=0.001).minimize(loss)\n",
    "    \n",
    "    sess.run(tf.global_variables_initializer())\n",
    "    for i in range(n_step):\n",
    "        sess.run(train, feed_dict={images: batch, ground_truth: one_hot_label})\n",
    "        if i % n_show_step == 0:\n",
    "            print(sess.run(loss, feed_dict={images: batch, ground_truth: one_hot_label}))\n",
    "    "
   ]
  },
  {
   "cell_type": "code",
   "execution_count": null,
   "metadata": {
    "collapsed": true
   },
   "outputs": [],
   "source": []
  }
 ],
 "metadata": {
  "kernelspec": {
   "display_name": "Python 3",
   "language": "python",
   "name": "python3"
  },
  "language_info": {
   "codemirror_mode": {
    "name": "ipython",
    "version": 3
   },
   "file_extension": ".py",
   "mimetype": "text/x-python",
   "name": "python",
   "nbconvert_exporter": "python",
   "pygments_lexer": "ipython3",
   "version": "3.6.1"
  }
 },
 "nbformat": 4,
 "nbformat_minor": 2
}
