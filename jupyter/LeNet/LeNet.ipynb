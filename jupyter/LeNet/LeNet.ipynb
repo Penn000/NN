{
 "cells": [
  {
   "cell_type": "markdown",
   "metadata": {},
   "source": [
    "# LeNet训练MNIST"
   ]
  },
  {
   "cell_type": "code",
   "execution_count": 1,
   "metadata": {
    "collapsed": true
   },
   "outputs": [],
   "source": [
    "import warnings\n",
    "warnings.filterwarnings('ignore')  # 不打印 warning \n",
    "\n",
    "import tensorflow as tf\n",
    "import numpy as np\n",
    "import os"
   ]
  },
  {
   "cell_type": "markdown",
   "metadata": {},
   "source": [
    "## 加载MNIST数据集\n",
    "\n",
    "分别加载MNIST训练集、测试集、验证集"
   ]
  },
  {
   "cell_type": "code",
   "execution_count": 3,
   "metadata": {},
   "outputs": [
    {
     "name": "stdout",
     "output_type": "stream",
     "text": [
      "Extracting MNIST_data/train-images-idx3-ubyte.gz\n",
      "Extracting MNIST_data/train-labels-idx1-ubyte.gz\n",
      "Extracting MNIST_data/t10k-images-idx3-ubyte.gz\n",
      "Extracting MNIST_data/t10k-labels-idx1-ubyte.gz\n"
     ]
    }
   ],
   "source": [
    "from tensorflow.examples.tutorials.mnist import input_data\n",
    "\n",
    "mnist = input_data.read_data_sets(\"MNIST_data/\", one_hot=True)\n",
    "X_train, y_train = mnist.train.images, mnist.train.labels\n",
    "X_test, y_test = mnist.test.images, mnist.test.labels\n",
    "X_validation, y_validation = mnist.validation.images, mnist.validation.labels"
   ]
  },
  {
   "cell_type": "code",
   "execution_count": 4,
   "metadata": {},
   "outputs": [
    {
     "name": "stdout",
     "output_type": "stream",
     "text": [
      "Image Shape: (55000, 784)\n",
      "label Shape: (55000, 10)\n",
      "\n",
      "Training Set:   55000 samples\n",
      "Validation Set: 5000 samples\n",
      "Test Set:       10000 samples\n"
     ]
    }
   ],
   "source": [
    "print(\"Image Shape: {}\".format(X_train.shape))\n",
    "print(\"label Shape: {}\".format(y_train.shape))\n",
    "print()\n",
    "print(\"Training Set:   {} samples\".format(len(X_train)))\n",
    "print(\"Validation Set: {} samples\".format(len(X_validation)))\n",
    "print(\"Test Set:       {} samples\".format(len(X_test)))"
   ]
  },
  {
   "cell_type": "markdown",
   "metadata": {},
   "source": [
    "## 数据处理\n",
    "\n",
    "由于LeNet的输入为32x32xC（C为图像通道数），而MNIST每张图像的尺寸为28x28，所以需要对图像四周进行填充，并添加一维，使得每幅图像的形状为32x32x1。"
   ]
  },
  {
   "cell_type": "code",
   "execution_count": 5,
   "metadata": {},
   "outputs": [
    {
     "name": "stdout",
     "output_type": "stream",
     "text": [
      "Updated Image Shape: (55000, 32, 32, 1)\n"
     ]
    }
   ],
   "source": [
    "# 使用0对图像四周进行填充\n",
    "X_train = np.array([np.pad(X_train[i].reshape((28, 28)), (2, 2), 'constant')[:, :, np.newaxis] for i in range(len(X_train))])\n",
    "X_validation = np.array([np.pad(X_validation[i].reshape((28, 28)), (2, 2), 'constant')[:, :, np.newaxis] for i in range(len(X_validation))])\n",
    "X_test = np.array([np.pad(X_test[i].reshape((28, 28)), (2, 2), 'constant')[:, :, np.newaxis] for i in range(len(X_test))])\n",
    "    \n",
    "print(\"Updated Image Shape: {}\".format(X_train.shape))"
   ]
  },
  {
   "cell_type": "markdown",
   "metadata": {},
   "source": [
    "## MNIST数据展示"
   ]
  },
  {
   "cell_type": "code",
   "execution_count": 6,
   "metadata": {},
   "outputs": [
    {
     "name": "stdout",
     "output_type": "stream",
     "text": [
      "[0. 0. 0. 1. 0. 0. 0. 0. 0. 0.]\n"
     ]
    },
    {
     "data": {
      "image/png": "[encoded data removed]",
      "text/plain": [
       "<matplotlib.figure.Figure at 0x7f2e0294b828>"
      ]
     },
     "metadata": {},
     "output_type": "display_data"
    }
   ],
   "source": [
    "import random\n",
    "import numpy as np\n",
    "import matplotlib.pyplot as plt\n",
    "%matplotlib inline\n",
    "\n",
    "index = random.randint(0, len(X_train))\n",
    "image = X_train[index].squeeze().reshape((32, 32))\n",
    "\n",
    "plt.figure(figsize=(2,2))\n",
    "plt.imshow(image, cmap=\"gray\")\n",
    "print(y_train[index])"
   ]
  },
  {
   "cell_type": "markdown",
   "metadata": {},
   "source": [
    "## LeNet网络结构\n",
    "\n",
    "![LeNet](https://raw.githubusercontent.com/udacity/CarND-LeNet-Lab/b12183069bcd00bf33bc5c7fd60cd9c4ae2b1bdd/lenet.png)\n",
    "\n",
    "### Input\n",
    "  The LeNet architecture accepts a 32x32xC image as input, where C is the number of color channels. Since MNIST images are grayscale, C is 1 in this case.\n",
    "  LeNet的输入为32x32xC的图像，C为图像的通道数。在MNIST中，图像为灰度图，因此C等于1。\n",
    "\n",
    "### Architecture\n",
    "**Layer 1: Convolutional.** 输出为28x28x6的张量。\n",
    "\n",
    "**Activation.** 激活函数。\n",
    "\n",
    "**Pooling.** 输出为14x14x6的张量。\n",
    "\n",
    "**Layer 2: Convolutional.** 输出为10x10x16的张量。\n",
    "\n",
    "**Activation.** 激活函数。\n",
    "\n",
    "**Pooling.** 输出为5x5x16的张量。\n",
    "\n",
    "**Flatten.** 将张量展平为一维向量，使用`tf.contrib.layers.flatten`可以实现。\n",
    "\n",
    "**Layer 3: Fully Connected.** 输出为120长度的向量。\n",
    "\n",
    "**Activation.** 激活函数。\n",
    "\n",
    "**Layer 4: Fully Connected.** 输出为84长度的向量。\n",
    "\n",
    "**Activation.** 激活函数。\n",
    "\n",
    "**Layer 5: Fully Connected (Logits).** 输出为10长度的向量。"
   ]
  },
  {
   "cell_type": "code",
   "execution_count": 8,
   "metadata": {
    "collapsed": true
   },
   "outputs": [],
   "source": [
    "# 卷积层\n",
    "def conv_layer(x, filter_shape, stride, name):\n",
    "    with tf.variable_scope(name):\n",
    "        W = tf.get_variable('weights', shape=filter_shape, initializer=tf.truncated_normal_initializer())\n",
    "        b = tf.get_variable('biases', shape=filter_shape[-1], initializer=tf.zeros_initializer())\n",
    "    return tf.nn.conv2d(x, W, strides=stride, padding='VALID', name=name) + b"
   ]
  },
  {
   "cell_type": "code",
   "execution_count": 9,
   "metadata": {
    "collapsed": true
   },
   "outputs": [],
   "source": [
    "# 池化层\n",
    "def max_pool_layer(x, kernel_size, stride, name):\n",
    "    return tf.nn.max_pool(x, ksize=kernel_size, strides=stride, name=name, padding='VALID')"
   ]
  },
  {
   "cell_type": "code",
   "execution_count": 10,
   "metadata": {
    "collapsed": true
   },
   "outputs": [],
   "source": [
    "# 全连接层\n",
    "def fc_layer(x, in_size, out_size, name):\n",
    "    with tf.variable_scope(name):\n",
    "        W = tf.get_variable('weights', shape=(in_size, out_size), initializer=tf.truncated_normal_initializer())\n",
    "        b = tf.get_variable('biases', shape=(out_size), initializer=tf.zeros_initializer())\n",
    "    \n",
    "    return tf.nn.xw_plus_b(x, W, b, name=name)"
   ]
  },
  {
   "cell_type": "code",
   "execution_count": 11,
   "metadata": {
    "collapsed": true
   },
   "outputs": [],
   "source": [
    "def relu_layer(x, name):\n",
    "    return tf.nn.relu(x, name=name)"
   ]
  },
  {
   "cell_type": "code",
   "execution_count": 12,
   "metadata": {
    "collapsed": true
   },
   "outputs": [],
   "source": [
    "from tensorflow.contrib.layers import flatten\n",
    "\n",
    "def LeNet(x): \n",
    "    conv1 = conv_layer(x, filter_shape=(5, 5, 1, 6), stride=[1, 1, 1, 1], name='conv1')\n",
    "    relu1 = relu_layer(conv1, 'relu1')\n",
    "    max_pool1 = max_pool_layer(relu1,  kernel_size=[1, 2, 2, 1], stride=[1, 2, 2, 1], name='max_pool1')\n",
    "    \n",
    "    conv2 = conv_layer(max_pool1, filter_shape=(5, 5, 6, 16), stride=[1, 1, 1, 1], name='conv2')\n",
    "    relu2 = relu_layer(conv2, 'relu2')\n",
    "    max_pool2 = max_pool_layer(relu2,  kernel_size=[1, 2, 2, 1], stride=[1, 2, 2, 1], name='max_pool1')\n",
    "    \n",
    "    flat = flatten(max_pool2)\n",
    "    \n",
    "    fc3 = fc_layer(flat, 400, 120, name='fc3')\n",
    "    relu3 = relu_layer(fc3, 'relu3')\n",
    "    \n",
    "    fc4 = fc_layer(relu3, 120, 84, name='fc4')\n",
    "    relu4 = relu_layer(fc4, 'relu4')\n",
    "    \n",
    "    logits = fc_layer(relu4, 84, 10, name='fc5')\n",
    "    \n",
    "    return logits"
   ]
  },
  {
   "cell_type": "markdown",
   "metadata": {},
   "source": [
    "## TensorFlow设置"
   ]
  },
  {
   "cell_type": "code",
   "execution_count": 13,
   "metadata": {
    "collapsed": true
   },
   "outputs": [],
   "source": [
    "EPOCHS = 10\n",
    "BATCH_SIZE = 128\n",
    "log_dir = './log/'"
   ]
  },
  {
   "cell_type": "code",
   "execution_count": 14,
   "metadata": {
    "collapsed": true
   },
   "outputs": [],
   "source": [
    "x = tf.placeholder(tf.float32, (None, 32, 32, 1))\n",
    "y = tf.placeholder(tf.int32, (None, 10))"
   ]
  },
  {
   "cell_type": "markdown",
   "metadata": {},
   "source": [
    "定义损失函数"
   ]
  },
  {
   "cell_type": "code",
   "execution_count": 15,
   "metadata": {},
   "outputs": [
    {
     "name": "stdout",
     "output_type": "stream",
     "text": [
      "WARNING:tensorflow:From <ipython-input-15-dbee436562c3>:2: softmax_cross_entropy_with_logits (from tensorflow.python.ops.nn_ops) is deprecated and will be removed in a future version.\n",
      "Instructions for updating:\n",
      "\n",
      "Future major versions of TensorFlow will allow gradients to flow\n",
      "into the labels input on backprop by default.\n",
      "\n",
      "See `tf.nn.softmax_cross_entropy_with_logits_v2`.\n",
      "\n"
     ]
    }
   ],
   "source": [
    "logits = LeNet(x)\n",
    "cross_entropy = tf.nn.softmax_cross_entropy_with_logits(labels=y, logits=logits)\n",
    "loss = tf.reduce_mean(cross_entropy)\n",
    "train = tf.train.AdamOptimizer(learning_rate=0.01).minimize(loss)"
   ]
  },
  {
   "cell_type": "markdown",
   "metadata": {},
   "source": [
    "## 训练"
   ]
  },
  {
   "cell_type": "code",
   "execution_count": 28,
   "metadata": {},
   "outputs": [
    {
     "name": "stdout",
     "output_type": "stream",
     "text": [
      "epoch 0 >>> loss: 21.561031\n",
      "epoch 1 >>> loss: 9.82034\n",
      "epoch 2 >>> loss: 6.4003944\n",
      "epoch 3 >>> loss: 4.8882194\n",
      "epoch 4 >>> loss: 4.2139616\n",
      "epoch 5 >>> loss: 3.8445468\n",
      "epoch 6 >>> loss: 3.1133854\n",
      "epoch 7 >>> loss: 3.2218308\n",
      "epoch 8 >>> loss: 2.475742\n",
      "epoch 9 >>> loss: 2.4776251\n",
      "Model saved\n"
     ]
    }
   ],
   "source": [
    "from sklearn.utils import shuffle\n",
    "import shutil\n",
    "log_dir = './logs/'\n",
    "if os.path.exists(log_dir):\n",
    "    shutil.rmtree(log_dir)\n",
    "os.makedirs(log_dir)\n",
    "train_writer = tf.summary.FileWriter(log_dir+'train/')\n",
    "valid_writer = tf.summary.FileWriter(log_dir+'valid/')\n",
    "\n",
    "ckpt_path = './ckpt/'\n",
    "saver = tf.train.Saver()\n",
    "\n",
    "with tf.Session() as sess:\n",
    "    sess.run(tf.global_variables_initializer())\n",
    "    n_samples = len(X_train)\n",
    "    \n",
    "    step = 0\n",
    "    for i in range(EPOCHS):\n",
    "        X_train, y_train = shuffle(X_train, y_train) # 打乱数据\n",
    "        # 使用mini-batch训练\n",
    "        for offset in range(0, n_samples, BATCH_SIZE):\n",
    "            end = offset + BATCH_SIZE\n",
    "            batch_x, batch_y = X_train[offset:end], y_train[offset:end]\n",
    "            sess.run(train, feed_dict={x: batch_x, y: batch_y})\n",
    "            \n",
    "            train_loss = sess.run(loss, feed_dict={x: batch_x, y: batch_y})\n",
    "            train_summary = tf.Summary(value=[\n",
    "                tf.Summary.Value(tag=\"loss\", simple_value=train_loss)\n",
    "            ])\n",
    "            train_writer.add_summary(train_summary, step)\n",
    "            train_writer.flush()\n",
    "            step += 1\n",
    "        \n",
    "        # 每个epoch使用验证集对网络进行验证\n",
    "        valid_loss = sess.run(loss, feed_dict={x: X_validation, y: y_validation})\n",
    "        valid_summary = tf.Summary(value=[\n",
    "                tf.Summary.Value(tag=\"loss\", simple_value=valid_loss)\n",
    "        ])\n",
    "        valid_writer.add_summary(valid_summary, step)\n",
    "        valid_writer.flush()\n",
    "        \n",
    "        print('epoch', i, '>>> loss:', valid_loss)\n",
    "    \n",
    "    # 保存模型\n",
    "    saver.save(sess, ckpt_path + 'model.ckpt')\n",
    "    print(\"Model saved\")"
   ]
  },
  {
   "cell_type": "markdown",
   "metadata": {},
   "source": [
    "训练和验证的loss曲线\n",
    "\n",
    "![lenet_tensorboard](./loss.png)"
   ]
  },
  {
   "cell_type": "markdown",
   "metadata": {},
   "source": [
    "## 测试"
   ]
  },
  {
   "cell_type": "code",
   "execution_count": 29,
   "metadata": {
    "collapsed": true
   },
   "outputs": [],
   "source": [
    "correct = tf.equal(tf.argmax(logits, 1), tf.argmax(y, 1))\n",
    "accuracy = tf.reduce_mean(tf.cast(correct, tf.float32))"
   ]
  },
  {
   "cell_type": "code",
   "execution_count": 33,
   "metadata": {},
   "outputs": [
    {
     "name": "stdout",
     "output_type": "stream",
     "text": [
      "INFO:tensorflow:Restoring parameters from ./ckpt/model.ckpt\n",
      "Test Accuracy = 0.958299994468689\n"
     ]
    }
   ],
   "source": [
    "with tf.Session() as sess:\n",
    "    saver.restore(sess, tf.train.latest_checkpoint('./ckpt'))\n",
    "\n",
    "    test_accuracy = sess.run(accuracy, feed_dict={x: X_test, y: y_test})\n",
    "    print(\"Test Accuracy = {}\".format(test_accuracy))"
   ]
  }
 ],
 "metadata": {
  "kernelspec": {
   "display_name": "Python 3",
   "language": "python",
   "name": "python3"
  },
  "language_info": {
   "codemirror_mode": {
    "name": "ipython",
    "version": 3
   },
   "file_extension": ".py",
   "mimetype": "text/x-python",
   "name": "python",
   "nbconvert_exporter": "python",
   "pygments_lexer": "ipython3",
   "version": "3.6.1"
  }
 },
 "nbformat": 4,
 "nbformat_minor": 2
}
