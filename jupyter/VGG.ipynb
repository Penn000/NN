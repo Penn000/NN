{
 "cells": [
  {
   "cell_type": "code",
   "execution_count": 2,
   "metadata": {
    "collapsed": true
   },
   "outputs": [],
   "source": [
    "import tensorflow as tf\n",
    "import numpy as np"
   ]
  },
  {
   "cell_type": "markdown",
   "metadata": {},
   "source": [
    "## 加载MNIST数据集\n",
    "\n",
    "分别加载MNIST训练集、测试集、验证集"
   ]
  },
  {
   "cell_type": "code",
   "execution_count": 5,
   "metadata": {},
   "outputs": [
    {
     "name": "stdout",
     "output_type": "stream",
     "text": [
      "Extracting MNIST_data/train-images-idx3-ubyte.gz\n",
      "Extracting MNIST_data/train-labels-idx1-ubyte.gz\n",
      "Extracting MNIST_data/t10k-images-idx3-ubyte.gz\n",
      "Extracting MNIST_data/t10k-labels-idx1-ubyte.gz\n"
     ]
    }
   ],
   "source": [
    "from tensorflow.examples.tutorials.mnist import input_data\n",
    "\n",
    "mnist = input_data.read_data_sets(\"MNIST_data/\", one_hot=True)\n",
    "X_train, y_train = mnist.train.images, mnist.train.labels\n",
    "X_test, y_test = mnist.test.images, mnist.test.labels\n",
    "X_validation, y_validation = mnist.validation.images, mnist.validation.labels"
   ]
  },
  {
   "cell_type": "code",
   "execution_count": 6,
   "metadata": {},
   "outputs": [
    {
     "name": "stdout",
     "output_type": "stream",
     "text": [
      "Image Shape: (55000, 784)\n",
      "label Shape: (55000, 10)\n",
      "\n",
      "Training Set:   55000 samples\n",
      "Validation Set: 5000 samples\n",
      "Test Set:       10000 samples\n"
     ]
    }
   ],
   "source": [
    "print(\"Image Shape: {}\".format(X_train.shape))\n",
    "print(\"label Shape: {}\".format(y_train.shape))\n",
    "print()\n",
    "print(\"Training Set:   {} samples\".format(len(X_train)))\n",
    "print(\"Validation Set: {} samples\".format(len(X_validation)))\n",
    "print(\"Test Set:       {} samples\".format(len(X_test)))"
   ]
  },
  {
   "cell_type": "markdown",
   "metadata": {},
   "source": [
    "## VGG16网络结构"
   ]
  },
  {
   "cell_type": "code",
   "execution_count": 8,
   "metadata": {},
   "outputs": [],
   "source": [
    "def get_conv_filter(name):\n",
    "    return tf.constant(data_dict[name][0], name='filter')"
   ]
  },
  {
   "cell_type": "code",
   "execution_count": 9,
   "metadata": {},
   "outputs": [],
   "source": [
    "def get_biases(name):\n",
    "    return tf.constant(data_dict[name][1], name='biases')"
   ]
  },
  {
   "cell_type": "code",
   "execution_count": 10,
   "metadata": {},
   "outputs": [],
   "source": [
    "def get_fc_weight(name):\n",
    "    return tf.constant(data_dict[name][0], name='weights')"
   ]
  },
  {
   "cell_type": "code",
   "execution_count": 6,
   "metadata": {},
   "outputs": [],
   "source": [
    "def conv_layer(x_input, name):\n",
    "    with fg.variable_scope(name):\n",
    "        filt = get_conv_filter(name)\n",
    "        \n",
    "        layer = tf.nn.conv2d(x_input, filt, [1, 1, 1, 1], padding='SAME')\n",
    "        \n",
    "        conv_biases = get_biases(name)\n",
    "        layer = tf.nn.bias_add(layer, conv_biases)\n",
    "        \n",
    "        layer = tf.nn.relu(layer)\n",
    "        return layer"
   ]
  },
  {
   "cell_type": "code",
   "execution_count": 7,
   "metadata": {},
   "outputs": [],
   "source": [
    "def fc_layer(x_input, name):\n",
    "    with tf.variable_scope(name):\n",
    "        shape = x_input.get_shape().as_list()\n",
    "        dim = 1\n",
    "        for d in shape[1:]:\n",
    "            dim *= d\n",
    "        x = tf.reshape(x_input, [-1, dim])\n",
    "        \n",
    "        w = get_fc_weight(name)\n",
    "        b = get_biases(name)\n",
    "        \n",
    "        fc = tf.nn.bias_add(tf.matmul(x, w), b)\n",
    "    return fc"
   ]
  },
  {
   "cell_type": "code",
   "execution_count": null,
   "metadata": {},
   "outputs": [],
   "source": [
    "def max_pool_layer(x_input, name):\n",
    "    return tf.nn.max_pool(x_input, ksize=[1, 2, 2, 1], strides=[1, 2, 2, 1], padding='SAME', name=name)"
   ]
  },
  {
   "cell_type": "code",
   "execution_count": null,
   "metadata": {},
   "outputs": [],
   "source": [
    "def avg_pool_layer(x_input, name):\n",
    "    return tf.nn.avg_pool(x_input, ksize=[1, 2, 2, 1], strides=[1, 2, 2, 1], padding='SAME', name=name)"
   ]
  },
  {
   "cell_type": "code",
   "execution_count": 4,
   "metadata": {},
   "outputs": [],
   "source": [
    "def VGG16(x):\n",
    "    \n",
    "    # 224x224x64\n",
    "    conv1_1 = conv_layer(bgr, 'conv1_1')\n",
    "    conv1_2 = conv_layer(conv1_1, 'conv1_2')\n",
    "    pool1 = max_pool_layer(conv1_2, 'pool1')\n",
    "    \n",
    "    # \n",
    "    conv2_1 = conv_layer(pool1, 'conv2_1')\n",
    "    conv2_2 = conv_layer(conv2_1, 'conv2_2')\n",
    "    pool2 = max_pool_layer(conv2_2, 'pool2')\n",
    "    \n",
    "    conv3_1 = conv_layer(pool2, 'conv3_1')\n",
    "    conv3_2 = conv_layer(conv3_1, 'conv3_2')\n",
    "    conv3_3 = conv_layer(conv3_2, 'conv3_3')\n",
    "    pool3 = max_pool_layer(conv3_3, 'pool3')\n",
    "    \n",
    "    conv4_1 = conv_layer(pool3, 'conv4_1')\n",
    "    conv4_2 = conv_layer(conv4_1, 'conv4_2')\n",
    "    conv4_3 = conv_layer(conv4_2, 'conv4_3')\n",
    "    pool4 = max_pool_layer(conv4_3, 'pool4')\n",
    "    \n",
    "    conv5_1 = conv_layer(pool4, 'conv5_1')\n",
    "    conv5_2 = conv_layer(conv5_1, 'conv5_2')\n",
    "    conv5_3 = conv_layer(conv5_2, 'conv5_3')\n",
    "    pool5 = max_pool_layer(conv5_3, 'pool5')\n",
    "    \n",
    "    fc6 = fc_layer(pool, 'fc6')\n",
    "    assert fc6.get_shape().as_list()[1:] == [4096]\n",
    "    relu6 = tf.nn.relu(fc6)\n",
    "    \n",
    "    fc7 = fc_layer(relu7, 'fc7')\n",
    "    relu7 = tf.nn.relu(fc7)\n",
    "    \n",
    "    fc8 = fc_layer(relu7, 'fc8')\n",
    "    \n",
    "    prob = tf.nn.softmax(fc8, name='prob')\n",
    "    "
   ]
  }
 ],
 "metadata": {
  "kernelspec": {
   "display_name": "Python 3",
   "language": "python",
   "name": "python3"
  },
  "language_info": {
   "codemirror_mode": {
    "name": "ipython",
    "version": 3
   },
   "file_extension": ".py",
   "mimetype": "text/x-python",
   "name": "python",
   "nbconvert_exporter": "python",
   "pygments_lexer": "ipython3",
   "version": "3.5.2"
  }
 },
 "nbformat": 4,
 "nbformat_minor": 2
}
