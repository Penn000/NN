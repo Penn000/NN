{
 "cells": [
  {
   "cell_type": "code",
   "execution_count": 1,
   "metadata": {
    "collapsed": true
   },
   "outputs": [],
   "source": [
    "import warnings\n",
    "warnings.filterwarnings('ignore')  # 不打印 warning \n",
    "\n",
    "import tensorflow as tf"
   ]
  },
  {
   "cell_type": "markdown",
   "metadata": {},
   "source": [
    "## 1. Graph\n",
    "\n",
    "### 例1. 矩阵相乘"
   ]
  },
  {
   "cell_type": "code",
   "execution_count": 2,
   "metadata": {
    "collapsed": true
   },
   "outputs": [],
   "source": [
    "with tf.name_scope('matmul_graph') as scope:\n",
    "    mat1 = tf.constant([[1.0, 2.0]], name='mat1')\n",
    "    mat2 = tf.constant([[3.0], [4.0]], name='mat2')\n",
    "    mat3 = tf.matmul(mat1, mat2, name='mat3')\n",
    "    \n",
    "with tf.Session() as sess:\n",
    "    writer = tf.summary.FileWriter('logs/', sess.graph)\n",
    "    init = tf.global_variables_initializer()\n",
    "    sess.run(init)"
   ]
  },
  {
   "cell_type": "markdown",
   "metadata": {
    "collapsed": true
   },
   "source": [
    "打开tensorboard\n",
    "\n",
    "1. 在终端输入`tensorboard --logdir ./logs/`开启tensorboard\n",
    "2. 在浏览器输入`localhost:6006`打开tensorboard\n",
    "\n",
    "上面例子的graph如下图所示：\n",
    "\n",
    "![matmul_graph](./matmul_graph.png)"
   ]
  },
  {
   "cell_type": "markdown",
   "metadata": {},
   "source": [
    "### 例2. 线性拟合"
   ]
  }
 ],
 "metadata": {
  "kernelspec": {
   "display_name": "Python 3",
   "language": "python",
   "name": "python3"
  },
  "language_info": {
   "codemirror_mode": {
    "name": "ipython",
    "version": 3
   },
   "file_extension": ".py",
   "mimetype": "text/x-python",
   "name": "python",
   "nbconvert_exporter": "python",
   "pygments_lexer": "ipython3",
   "version": "3.6.1"
  }
 },
 "nbformat": 4,
 "nbformat_minor": 2
}
