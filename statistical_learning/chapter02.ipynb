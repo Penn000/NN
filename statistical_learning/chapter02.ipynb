{
 "cells": [
  {
   "cell_type": "markdown",
   "metadata": {},
   "source": [
    "# 第2章 感知机\n",
    "\n",
    "## 1. 感知机模型\n",
    "\n",
    "**定义**：\n",
    "- 输入空间：$\\mathcal{X}\\subseteq R^n$\n",
    "- 输出空间：$\\mathcal{Y} = \\{+1,-1\\}$\n",
    "- $x \\in \\mathcal{X}$：输入实例的特征向量\n",
    "- $y \\in \\mathcal{Y}$: 输出实例的类别\n",
    "\n",
    "由输入空间到输出空间的如下函数称为感知机：\n",
    "$$\n",
    "f(x)=\\operatorname{sign}(w \\cdot x+b)\n",
    "$$\n",
    "其中$sign$为符号函数，定义如下：\n",
    "$$\n",
    "\\operatorname{sign}(x)=\\left\\{\\begin{array}{ll}{+1,} & {x \\geqslant 0} \\\\ {-1,} & {x<0}\\end{array}\\right.\n",
    "$$\n",
    "\n",
    "感知机就是神经网络中一个简化版（输出为+1和-1二值）的神经元，是线性二分类模型，属于判别模型\n",
    "\n",
    "## 2. 感知机学习策略\n",
    "\n",
    "损失函数是误分类点到超平面$S$的总距离，定义如下：\n",
    "$$\n",
    "L(w,b)=-\\sum_{x_i\\in M}{y_i(w*x_i+b)}\n",
    "$$\n",
    "$M$为误分类点的集合\n",
    "\n",
    "## 3. 感知机学习算法\n",
    "\n",
    "(1) 原始形式\n",
    "\n",
    "$L(w,b)$对$b$求偏导为：\n",
    "\n",
    "$L(w,b)$对$w$求偏导为：\n",
    "\n",
    "**算法2.1（随机梯度下降法）**\n",
    "\n",
    "输入：训练数据集$T=[(x_1,y_1),...,(x_N,y_N)]$，学习率$\\eta$\n",
    "\n",
    "1, 选取初值$w_0, b_0$\n",
    "\n",
    "2, 在训练集中选取数据$(x_i, y_i)$\n",
    "\n",
    "3, 如果$y_i(w\\bullet x_i+b) \\le 0$:\n",
    "  - $w:=w+\\eta y_ix_i$ ($L(w,b)$对$w$求偏导为：)\n",
    "  - $b:=b+\\eta y_i$ \n",
    "  \n",
    "4, 转至2，直到训练集中没有误分类的点\n",
    "\n",
    "输出：$w,b$\n",
    "\n",
    "(2) 对偶形式"
   ]
  },
  {
   "cell_type": "markdown",
   "metadata": {},
   "source": [
    "### 代码实现\n",
    "\n",
    "使用iris数据集中两个分类的数据和[sepal length，sepal width]作为特征"
   ]
  },
  {
   "cell_type": "code",
   "execution_count": 1,
   "metadata": {},
   "outputs": [],
   "source": [
    "import numpy as np\n",
    "import matplotlib.pyplot as plt\n",
    "from sklearn.datasets import load_iris\n",
    "%matplotlib inline"
   ]
  },
  {
   "cell_type": "code",
   "execution_count": 2,
   "metadata": {},
   "outputs": [
    {
     "name": "stdout",
     "output_type": "stream",
     "text": [
      "X shape (100, 2)\n",
      "Y shape (100,)\n"
     ]
    }
   ],
   "source": [
    "iris = load_iris()\n",
    "data = iris['data']\n",
    "target = iris['target']\n",
    "\n",
    "X = data[:100, :2]\n",
    "Y = target[:100]\n",
    "Y = np.array([1 if y == 1 else -1 for y in Y])\n",
    "print('X shape', X.shape)\n",
    "print('Y shape', Y.shape)"
   ]
  },
  {
   "cell_type": "code",
   "execution_count": 3,
   "metadata": {},
   "outputs": [
    {
     "data": {
      "image/png": "[encoded data removed]",
      "text/plain": [
       "<Figure size 432x288 with 1 Axes>"
      ]
     },
     "metadata": {
      "needs_background": "light"
     },
     "output_type": "display_data"
    }
   ],
   "source": [
    "plt.scatter(X[:50, 0], X[:50, 1], label='-1')\n",
    "plt.scatter(X[50:100, 0], X[50:100, 1], label='1')\n",
    "plt.xlabel('sepal length')\n",
    "plt.ylabel('sepal width')\n",
    "plt.legend()\n",
    "plt.show()"
   ]
  },
  {
   "cell_type": "code",
   "execution_count": 4,
   "metadata": {},
   "outputs": [],
   "source": [
    "class Model:\n",
    "    def __init__(self):\n",
    "        self.w = np.ones(2, dtype=np.float32)\n",
    "        self.b = 0.0\n",
    "        self.learning_rate = 0.1\n",
    "        \n",
    "    def fit(self, X_train, Y_train):\n",
    "        ok = False\n",
    "        while not ok:\n",
    "            wrong_cnt = 0\n",
    "            for i in range(len(X_train)):\n",
    "                x = X_train[i]\n",
    "                y = Y_train[i]\n",
    "                if y * (np.dot(self.w, x) + self.b) <= 0:\n",
    "                    self.w = self.w + self.learning_rate * np.dot(y, x)\n",
    "                    self.b = self.b + self.learning_rate * y\n",
    "                    wrong_cnt += 1\n",
    "            if wrong_cnt == 0:\n",
    "                ok = True\n",
    "        print('fit finish!')"
   ]
  },
  {
   "cell_type": "code",
   "execution_count": 5,
   "metadata": {},
   "outputs": [
    {
     "name": "stdout",
     "output_type": "stream",
     "text": [
      "fit finish!\n",
      "w: [  7.8 -10. ]\n",
      "b: -12.1\n"
     ]
    }
   ],
   "source": [
    "model = Model()\n",
    "model.fit(X, Y)\n",
    "print('w:', model.w)\n",
    "print('b:', model.b)"
   ]
  },
  {
   "cell_type": "markdown",
   "metadata": {},
   "source": [
    "绘制直线\n",
    "\n",
    "$w_0x_0+w_1x_1+b=0 \\Rightarrow w_0x+w_1y+b=0 \\Rightarrow y=-\\frac{1}{w_1}(w_0x+b)$"
   ]
  },
  {
   "cell_type": "code",
   "execution_count": 6,
   "metadata": {},
   "outputs": [
    {
     "data": {
      "image/png": "[encoded data removed]",
      "text/plain": [
       "<Figure size 432x288 with 1 Axes>"
      ]
     },
     "metadata": {
      "needs_background": "light"
     },
     "output_type": "display_data"
    }
   ],
   "source": [
    "line_x = np.linspace(4, 7, 10)\n",
    "line_y = -(model.w[0] * line_x + model.b) / model.w[1]\n",
    "plt.plot(line_x, line_y)\n",
    "\n",
    "plt.scatter(X[:50, 0], X[:50, 1], label='-1')\n",
    "plt.scatter(X[50:100, 0], X[50:100, 1], label='1')\n",
    "plt.xlabel('sepal length')\n",
    "plt.ylabel('sepal width')\n",
    "plt.legend()\n",
    "plt.show()"
   ]
  },
  {
   "cell_type": "markdown",
   "metadata": {},
   "source": [
    "### scikit-learn"
   ]
  },
  {
   "cell_type": "code",
   "execution_count": 7,
   "metadata": {},
   "outputs": [],
   "source": [
    "from sklearn.linear_model import Perceptron"
   ]
  },
  {
   "cell_type": "code",
   "execution_count": 8,
   "metadata": {},
   "outputs": [
    {
     "data": {
      "text/plain": [
       "Perceptron(alpha=0.0001, class_weight=None, eta0=1.0, fit_intercept=False,\n",
       "      max_iter=1000, n_iter=None, n_jobs=1, penalty=None, random_state=0,\n",
       "      shuffle=False, tol=None, verbose=0, warm_start=False)"
      ]
     },
     "execution_count": 8,
     "metadata": {},
     "output_type": "execute_result"
    }
   ],
   "source": [
    "clf = Perceptron(fit_intercept=False, max_iter=1000, shuffle=False)\n",
    "clf.fit(X, Y)"
   ]
  },
  {
   "cell_type": "code",
   "execution_count": 9,
   "metadata": {},
   "outputs": [
    {
     "name": "stdout",
     "output_type": "stream",
     "text": [
      "w: [[  74.6 -127.2]]\n",
      "b: [ 0.]\n"
     ]
    }
   ],
   "source": [
    "print('w:', clf.coef_)\n",
    "print('b:', clf.intercept_)"
   ]
  },
  {
   "cell_type": "code",
   "execution_count": 10,
   "metadata": {},
   "outputs": [
    {
     "data": {
      "image/png": "[encoded data removed]",
      "text/plain": [
       "<Figure size 432x288 with 1 Axes>"
      ]
     },
     "metadata": {
      "needs_background": "light"
     },
     "output_type": "display_data"
    }
   ],
   "source": [
    "line_x = np.linspace(4, 7, 10)\n",
    "line_y = -(clf.coef_[0][0] * line_x + clf.intercept_[0]) / clf.coef_[0][1]\n",
    "plt.plot(line_x, line_y)\n",
    "\n",
    "plt.scatter(X[:50, 0], X[:50, 1], label='-1')\n",
    "plt.scatter(X[50:100, 0], X[50:100, 1], label='1')\n",
    "plt.xlabel('sepal length')\n",
    "plt.ylabel('sepal width')\n",
    "plt.legend()\n",
    "plt.show()"
   ]
  }
 ],
 "metadata": {
  "kernelspec": {
   "display_name": "Python 3",
   "language": "python",
   "name": "python3"
  },
  "language_info": {
   "codemirror_mode": {
    "name": "ipython",
    "version": 3
   },
   "file_extension": ".py",
   "mimetype": "text/x-python",
   "name": "python",
   "nbconvert_exporter": "python",
   "pygments_lexer": "ipython3",
   "version": "3.6.1"
  }
 },
 "nbformat": 4,
 "nbformat_minor": 2
}
