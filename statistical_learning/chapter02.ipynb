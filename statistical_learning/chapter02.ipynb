{
 "cells": [
  {
   "cell_type": "markdown",
   "metadata": {},
   "source": [
    "# 第2章 感知机\n",
    "\n",
    "## 1. 感知机模型\n",
    "\n",
    "**定义**：\n",
    "- 输入空间：$\\mathcal{X}\\subseteq R^n$\n",
    "- 输出空间：$\\mathcal{Y} = \\{+1,-1\\}$\n",
    "- $x \\in \\mathcal{X}$：输入实例的特征向量\n",
    "- $y \\in \\mathcal{Y}$: 输出实例的类别\n",
    "\n",
    "由输入空间到输出空间的如下函数称为感知机：\n",
    "$$\n",
    "f(x)=\\operatorname{sign}(w \\cdot x+b)\n",
    "$$\n",
    "其中\n",
    "\n",
    "## 2. 感知机学习策略\n",
    "\n",
    "## 3. 感知机学习算法"
   ]
  },
  {
   "cell_type": "code",
   "execution_count": null,
   "metadata": {},
   "outputs": [],
   "source": []
  }
 ],
 "metadata": {
  "kernelspec": {
   "display_name": "Python 3",
   "language": "python",
   "name": "python3"
  },
  "language_info": {
   "codemirror_mode": {
    "name": "ipython",
    "version": 3
   },
   "file_extension": ".py",
   "mimetype": "text/x-python",
   "name": "python",
   "nbconvert_exporter": "python",
   "pygments_lexer": "ipython3",
   "version": "3.7.3"
  }
 },
 "nbformat": 4,
 "nbformat_minor": 2
}
