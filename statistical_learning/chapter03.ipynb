{
 "cells": [
  {
   "cell_type": "markdown",
   "metadata": {},
   "source": [
    "# 第3章 k近邻法\n",
    "\n",
    "**算法3.1（k近邻法）**\n",
    "\n",
    "输入：\n",
    "- 训练数据集\n",
    "$T=\\{(x_1,y_1),(x_2,y_2),...,(x_N,y_N)\\}$，\n",
    "其中，$x_i \\in \\mathcal{X} \\subseteq R^n$为实例的特征向量，$y_i \\in \\mathcal{Y} = \\{c_1,c_2,...,c_K\\}$为实例的类别，$i=1,2,...,N$\n",
    "- 实例特征向量$x$\n",
    "\n",
    "输出：\n",
    "- 实例$x$所属的类$y$\n",
    "\n",
    "(1)根据给定的距离度量，在训练集$T$中找出与$x$最近邻的$k$个点，涵盖这$k$个点的$x$的邻域记作$N_k(x)$\n",
    "\n",
    "(2)在$N_k(x)$中根据分类决策规则（如多数表决）决定$x$的类别$y$:\n",
    "$$y=\\arg \\max_{c_j} \\sum_{x_i \\in N_k(x)} I(y_i = c_j), i=1,2,...,N;j=1,2,...,K$$\n",
    "其中$I$为指示函数，当$y_i = c_j$时$I$为1，否则为0。\n",
    "\n",
    "## k近邻模型\n",
    "\n",
    "三个基本要素\n",
    "\n",
    "### 1. 距离度量\n",
    "\n",
    "设特征空间$x$是$n$维实数向量空间 ，$x_{i}, x_{j} \\in \\mathcal{X}$,$x_{i}=\\left(x_{i}^{(1)}, x_{i}^{(2)}, \\cdots, x_{i}^{(n)}\\right)^{\\mathrm{T}}$,$x_{j}=\\left(x_{j}^{(1)}, x_{j}^{(2)}, \\cdots, x_{j}^{(n)}\\right)^{\\mathrm{T}}$\n",
    "，则：$x_i$,$x_j$的$L_p$距离定义为:\n",
    "\n",
    "\n",
    "$L_{p}\\left(x_{i}, x_{j}\\right)=\\left(\\sum_{i=1}^{n}\\left|x_{i}^{(i)}-x_{j}^{(l)}\\right|^{p}\\right)^{\\frac{1}{p}}$\n",
    "\n",
    "- $p= 1$  曼哈顿距离\n",
    "- $p= 2$  欧氏距离\n",
    "- $p= inf$   闵式距离minkowski_distance \n",
    "\n",
    "### 2. k值的选择\n",
    "\n",
    "- k值的减小意味着整体模型变得复杂，容易发生过拟合\n",
    "- k值的增大意味着整体的模型变得简单\n",
    "\n",
    "### 3. 分类决策规则\n",
    "\n",
    "多数表决规则"
   ]
  },
  {
   "cell_type": "markdown",
   "metadata": {},
   "source": [
    "**例3.1**\n",
    "\n",
    "求$p$不同时，$L_p$距离下$x_1$的最近邻点"
   ]
  },
  {
   "cell_type": "code",
   "execution_count": 4,
   "metadata": {},
   "outputs": [],
   "source": [
    "import math"
   ]
  },
  {
   "cell_type": "code",
   "execution_count": 1,
   "metadata": {},
   "outputs": [],
   "source": [
    "x1 = [1, 1]\n",
    "x2 = [5, 1]\n",
    "x3 = [4, 4]"
   ]
  },
  {
   "cell_type": "code",
   "execution_count": 2,
   "metadata": {},
   "outputs": [],
   "source": [
    "# 计算向量x和y的p范数\n",
    "def L(x, y, p=2):\n",
    "    if len(x) == len(y) and len(x) > 1:\n",
    "        sum = 0\n",
    "        for i in range(len(x)):\n",
    "            sum += math.pow(abs(x[i] - y[i]), p)\n",
    "        return math.pow(sum, 1 / p)\n",
    "    return 0"
   ]
  },
  {
   "cell_type": "code",
   "execution_count": 10,
   "metadata": {},
   "outputs": [
    {
     "name": "stdout",
     "output_type": "stream",
     "text": [
      "(4.0, 'x2')\n",
      "(4.0, 'x2')\n",
      "(3.7797631496846193, 'x3')\n",
      "(3.5676213450081633, 'x3')\n"
     ]
    }
   ],
   "source": [
    "for p in range(1, 5):\n",
    "    ret = {'x2':L(x1, x2, p), 'x3':L(x1, x3, p)}\n",
    "    print(min(zip(ret.values(), ret.keys())))"
   ]
  }
 ],
 "metadata": {
  "kernelspec": {
   "display_name": "Python 3",
   "language": "python",
   "name": "python3"
  },
  "language_info": {
   "codemirror_mode": {
    "name": "ipython",
    "version": 3
   },
   "file_extension": ".py",
   "mimetype": "text/x-python",
   "name": "python",
   "nbconvert_exporter": "python",
   "pygments_lexer": "ipython3",
   "version": "3.6.1"
  }
 },
 "nbformat": 4,
 "nbformat_minor": 2
}
