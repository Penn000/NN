{
 "cells": [
  {
   "cell_type": "markdown",
   "metadata": {},
   "source": [
    "# 第3章 k近邻法\n",
    "\n",
    "**算法3.1（k近邻法）**\n",
    "\n",
    "输入：\n",
    "- 训练数据集\n",
    "$T=\\{(x_1,y_1),(x_2,y_2),...,(x_N,y_N)\\}$，\n",
    "其中，$x_i \\in \\mathcal{X} \\subseteq R^n$为实例的特征向量，$y_i \\in \\mathcal{Y} = \\{c_1,c_2,...,c_K\\}$为实例的类别，$i=1,2,...,N$\n",
    "- 实例特征向量$x$\n",
    "\n",
    "输出：\n",
    "- 实例$x$所属的类$y$\n",
    "\n",
    "(1)根据给定的距离度量，在训练集$T$中找出与$x$最近邻的$k$个点，涵盖这$k$个点的$x$的邻域记作$N_k(x)$\n",
    "\n",
    "(2)在$N_k(x)$中根据分类决策规则（如多数表决）决定$x$的类别$y$:\n",
    "$$y=\\arg \\max_{c_j} \\sum_{x_i \\in N_k(x)} I(y_i = c_j), i=1,2,...,N;j=1,2,...,K$$\n",
    "其中$I$为指示函数，当$y_i = c_j$时$I$为1，否则为0。\n",
    "\n",
    "## k近邻模型\n",
    "\n",
    "三个基本要素\n",
    "\n",
    "### 1. 距离度量\n",
    "\n",
    "设特征空间$x$是$n$维实数向量空间 ，$x_{i}, x_{j} \\in \\mathcal{X}$,$x_{i}=\\left(x_{i}^{(1)}, x_{i}^{(2)}, \\cdots, x_{i}^{(n)}\\right)^{\\mathrm{T}}$,$x_{j}=\\left(x_{j}^{(1)}, x_{j}^{(2)}, \\cdots, x_{j}^{(n)}\\right)^{\\mathrm{T}}$\n",
    "，则：$x_i$,$x_j$的$L_p$距离定义为:\n",
    "\n",
    "\n",
    "$L_{p}\\left(x_{i}, x_{j}\\right)=\\left(\\sum_{i=1}^{n}\\left|x_{i}^{(i)}-x_{j}^{(l)}\\right|^{p}\\right)^{\\frac{1}{p}}$\n",
    "\n",
    "- $p= 1$  曼哈顿距离\n",
    "- $p= 2$  欧氏距离\n",
    "- $p= inf$   闵式距离minkowski_distance \n",
    "\n",
    "### 2. k值的选择\n",
    "\n",
    "- k值的减小意味着整体模型变得复杂，容易发生过拟合\n",
    "- k值的增大意味着整体的模型变得简单\n",
    "\n",
    "### 3. 分类决策规则\n",
    "\n",
    "多数表决规则"
   ]
  },
  {
   "cell_type": "markdown",
   "metadata": {},
   "source": [
    "**例3.1**\n",
    "\n",
    "求$p$不同时，$L_p$距离下$x_1$的最近邻点"
   ]
  },
  {
   "cell_type": "code",
   "execution_count": 1,
   "metadata": {},
   "outputs": [],
   "source": [
    "import math"
   ]
  },
  {
   "cell_type": "code",
   "execution_count": 2,
   "metadata": {},
   "outputs": [],
   "source": [
    "x1 = [1, 1]\n",
    "x2 = [5, 1]\n",
    "x3 = [4, 4]"
   ]
  },
  {
   "cell_type": "code",
   "execution_count": 3,
   "metadata": {},
   "outputs": [],
   "source": [
    "# 计算向量x和y的p范数\n",
    "def L(x, y, p=2):\n",
    "    if len(x) == len(y) and len(x) > 1:\n",
    "        sum = 0\n",
    "        for i in range(len(x)):\n",
    "            sum += math.pow(abs(x[i] - y[i]), p)\n",
    "        return math.pow(sum, 1 / p)\n",
    "    return 0"
   ]
  },
  {
   "cell_type": "code",
   "execution_count": 4,
   "metadata": {},
   "outputs": [
    {
     "name": "stdout",
     "output_type": "stream",
     "text": [
      "(4.0, 'x2')\n",
      "(4.0, 'x2')\n",
      "(3.7797631496846193, 'x3')\n",
      "(3.5676213450081633, 'x3')\n"
     ]
    }
   ],
   "source": [
    "for p in range(1, 5):\n",
    "    ret = {'x2':L(x1, x2, p), 'x3':L(x1, x3, p)}\n",
    "    print(min(zip(ret.values(), ret.keys())))"
   ]
  },
  {
   "cell_type": "markdown",
   "metadata": {},
   "source": [
    "### k近邻的$O(kn)$实现\n",
    "\n",
    "使用iris数据集中的[sepal length，sepal width]作为特征"
   ]
  },
  {
   "cell_type": "code",
   "execution_count": 5,
   "metadata": {},
   "outputs": [],
   "source": [
    "import numpy as np\n",
    "import matplotlib.pyplot as plt\n",
    "from sklearn.datasets import load_iris\n",
    "from sklearn.model_selection import train_test_split\n",
    "%matplotlib inline"
   ]
  },
  {
   "cell_type": "code",
   "execution_count": 6,
   "metadata": {},
   "outputs": [
    {
     "name": "stdout",
     "output_type": "stream",
     "text": [
      "X shape (150, 2)\n",
      "Y shape (150,)\n",
      "X_train shape (120, 2)\n",
      "Y_train shape (120,)\n",
      "X_test shape (30, 2)\n",
      "Y_test shape (30,)\n"
     ]
    }
   ],
   "source": [
    "iris = load_iris()\n",
    "data = iris['data']\n",
    "target = iris['target']\n",
    "\n",
    "X = data[:, :2]\n",
    "Y = target\n",
    "print('X shape', X.shape)\n",
    "print('Y shape', Y.shape)\n",
    "\n",
    "X_train, X_test, Y_train, Y_test = train_test_split(X, Y, test_size=0.2)\n",
    "\n",
    "print('X_train shape', X_train.shape)\n",
    "print('Y_train shape', Y_train.shape)\n",
    "print('X_test shape', X_test.shape)\n",
    "print('Y_test shape', Y_test.shape)"
   ]
  },
  {
   "cell_type": "code",
   "execution_count": 7,
   "metadata": {},
   "outputs": [
    {
     "data": {
      "image/png": "[encoded data removed]",
      "text/plain": [
       "<Figure size 432x288 with 1 Axes>"
      ]
     },
     "metadata": {
      "needs_background": "light"
     },
     "output_type": "display_data"
    }
   ],
   "source": [
    "plt.scatter(X[:50, 0], X[:50, 1], label='0')\n",
    "plt.scatter(X[50:100, 0], X[50:100, 1], label='1')\n",
    "plt.scatter(X[100:150, 0], X[100:150, 1], label='2')\n",
    "plt.xlabel('sepal length')\n",
    "plt.ylabel('sepal width')\n",
    "plt.legend()\n",
    "plt.show()"
   ]
  },
  {
   "cell_type": "code",
   "execution_count": 8,
   "metadata": {},
   "outputs": [],
   "source": [
    "class KNN:\n",
    "    def __init__(self, X_train, Y_train, k=3, p=2):\n",
    "        '''\n",
    "        parameter k: 近邻点个数\n",
    "        parameter p：度量距离范数\n",
    "        '''\n",
    "        self.X_train = X_train\n",
    "        self.Y_train = Y_train\n",
    "        self.k = k\n",
    "        self.p = p\n",
    "        \n",
    "    def predict(self, x):\n",
    "        '''\n",
    "        parameter X_train: 训练数据集，训练样本数 * 维度\n",
    "        parameter Y_train：训练数据集标签\n",
    "        parameter X_test: 测试数据\n",
    "        return: 测试数据标签\n",
    "        '''\n",
    "        dist_list = []\n",
    "        cnt = {}\n",
    "        for i in range(len(self.Y_train)):\n",
    "            dist = np.linalg.norm(x-self.X_train[i], ord=self.p)\n",
    "            dist_list.append((dist, self.Y_train[i]))\n",
    "            cnt[Y_train[i]] = 0\n",
    "        for i in range(self.k):\n",
    "            min_dist = dist_list[i][0]\n",
    "            min_index = i\n",
    "            for j in range(i+1, len(self.Y_train)):\n",
    "                if dist_list[j][0] < min_dist:\n",
    "                    min_dist = dist_list[j][0]\n",
    "                    min_index = j\n",
    "            dist_list[i], dist_list[min_index] = dist_list[min_index], dist_list[i]\n",
    "            cnt[dist_list[i][1]] += 1\n",
    "        # 获取k近邻点中类别最多的标签\n",
    "        y = max(cnt, key=cnt.get)\n",
    "        return y\n",
    "    \n",
    "    def source(self, X_test, Y_test):\n",
    "        right_cnt = 0\n",
    "        for i in range(len(Y_test)):\n",
    "            y = self.predict(X_test[i])\n",
    "            if y == Y_test[i]:\n",
    "                right_cnt += 1\n",
    "        return right_cnt / len(Y_test)"
   ]
  },
  {
   "cell_type": "code",
   "execution_count": 9,
   "metadata": {},
   "outputs": [
    {
     "name": "stdout",
     "output_type": "stream",
     "text": [
      "accuracy: 0.7666666666666667\n"
     ]
    }
   ],
   "source": [
    "knn = KNN(X_train, Y_train)\n",
    "print('accuracy:', knn.source(X_test, Y_test))"
   ]
  },
  {
   "cell_type": "code",
   "execution_count": 10,
   "metadata": {},
   "outputs": [
    {
     "data": {
      "image/png": "[encoded data removed]",
      "text/plain": [
       "<Figure size 432x288 with 1 Axes>"
      ]
     },
     "metadata": {
      "needs_background": "light"
     },
     "output_type": "display_data"
    }
   ],
   "source": [
    "plt.scatter(X[:50, 0], X[:50, 1], c='b', marker='+', label='0')\n",
    "plt.scatter(X[50:100, 0], X[50:100, 1], c='r', marker='+', label='1')\n",
    "plt.scatter(X[100:150, 0], X[100:150, 1], c='g', marker='+', label='2')\n",
    "for i in range(len(X_test)):\n",
    "    label = knn.predict(X_test[i])\n",
    "    if label == 0:\n",
    "        plt.scatter(X_test[i][0], X_test[i][1], c='b', marker='^')\n",
    "    elif label == 1:\n",
    "        plt.scatter(X_test[i][0], X_test[i][1], c='r', marker='^')\n",
    "    elif label == 2:\n",
    "        plt.scatter(X_test[i][0], X_test[i][1], c='g', marker='^')\n",
    "plt.xlabel('sepal length')\n",
    "plt.ylabel('sepal width')\n",
    "plt.legend()\n",
    "plt.show()"
   ]
  },
  {
   "cell_type": "markdown",
   "metadata": {},
   "source": [
    "### scikit-learn实现"
   ]
  },
  {
   "cell_type": "code",
   "execution_count": 11,
   "metadata": {},
   "outputs": [],
   "source": [
    "from sklearn.neighbors import KNeighborsClassifier"
   ]
  },
  {
   "cell_type": "code",
   "execution_count": 12,
   "metadata": {},
   "outputs": [
    {
     "data": {
      "text/plain": [
       "KNeighborsClassifier(algorithm='auto', leaf_size=30, metric='minkowski',\n",
       "                     metric_params=None, n_jobs=None, n_neighbors=3, p=2,\n",
       "                     weights='uniform')"
      ]
     },
     "execution_count": 12,
     "metadata": {},
     "output_type": "execute_result"
    }
   ],
   "source": [
    "clf_sk = KNeighborsClassifier(n_neighbors=3)\n",
    "clf_sk.fit(X_train, Y_train)"
   ]
  },
  {
   "cell_type": "code",
   "execution_count": 13,
   "metadata": {},
   "outputs": [
    {
     "data": {
      "text/plain": [
       "0.7666666666666667"
      ]
     },
     "execution_count": 13,
     "metadata": {},
     "output_type": "execute_result"
    }
   ],
   "source": [
    "clf_sk.score(X_test, Y_test)"
   ]
  },
  {
   "cell_type": "code",
   "execution_count": 14,
   "metadata": {},
   "outputs": [
    {
     "data": {
      "image/png": "[encoded data removed]",
      "text/plain": [
       "<Figure size 432x288 with 1 Axes>"
      ]
     },
     "metadata": {
      "needs_background": "light"
     },
     "output_type": "display_data"
    }
   ],
   "source": [
    "plt.scatter(X[:50, 0], X[:50, 1], c='b', marker='+', label='0')\n",
    "plt.scatter(X[50:100, 0], X[50:100, 1], c='r', marker='+', label='1')\n",
    "plt.scatter(X[100:150, 0], X[100:150, 1], c='g', marker='+', label='2')\n",
    "for i in range(len(X_test)):\n",
    "    label = clf_sk.predict([X_test[i]])[0]\n",
    "    if label == 0:\n",
    "        plt.scatter(X_test[i][0], X_test[i][1], c='b', marker='^')\n",
    "    elif label == 1:\n",
    "        plt.scatter(X_test[i][0], X_test[i][1], c='r', marker='^')\n",
    "    elif label == 2:\n",
    "        plt.scatter(X_test[i][0], X_test[i][1], c='g', marker='^')\n",
    "plt.xlabel('sepal length')\n",
    "plt.ylabel('sepal width')\n",
    "plt.legend()\n",
    "plt.show()"
   ]
  },
  {
   "cell_type": "markdown",
   "metadata": {},
   "source": [
    "## kd 树"
   ]
  }
 ],
 "metadata": {
  "kernelspec": {
   "display_name": "Python 3",
   "language": "python",
   "name": "python3"
  },
  "language_info": {
   "codemirror_mode": {
    "name": "ipython",
    "version": 3
   },
   "file_extension": ".py",
   "mimetype": "text/x-python",
   "name": "python",
   "nbconvert_exporter": "python",
   "pygments_lexer": "ipython3",
   "version": "3.7.3"
  }
 },
 "nbformat": 4,
 "nbformat_minor": 2
}
