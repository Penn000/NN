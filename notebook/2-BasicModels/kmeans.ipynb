{
 "cells": [
  {
   "cell_type": "markdown",
   "metadata": {},
   "source": [
    "# K-means example\n",
    "\n",
    "**算法原理**\n",
    "\n",
    "kmeans的计算方法如下：\n",
    "\n",
    "1. 随机选取k个中心点\n",
    "\n",
    "2. 遍历所有数据，将每个数据划分到最近的中心点中\n",
    "\n",
    "3. 计算每个聚类的平均值，并作为新的中心点\n",
    "\n",
    "4. 重复2-3，直到这k个中线点不再变化（收敛了），或执行了足够多的迭代"
   ]
  },
  {
   "cell_type": "code",
   "execution_count": 1,
   "metadata": {},
   "outputs": [],
   "source": [
    "from __future__ import print_function\n",
    "\n",
    "import tensorflow as tf\n",
    "import numpy as np\n",
    "from tensorflow.contrib.factorization import KMeans"
   ]
  },
  {
   "cell_type": "code",
   "execution_count": 3,
   "metadata": {},
   "outputs": [
    {
     "name": "stdout",
     "output_type": "stream",
     "text": [
      "Extracting /tmp/data/train-images-idx3-ubyte.gz\n",
      "Extracting /tmp/data/train-labels-idx1-ubyte.gz\n",
      "Extracting /tmp/data/t10k-images-idx3-ubyte.gz\n",
      "Extracting /tmp/data/t10k-labels-idx1-ubyte.gz\n"
     ]
    }
   ],
   "source": [
    "from tensorflow.examples.tutorials.mnist import input_data\n",
    "mnist = input_data.read_data_sets('/tmp/data/', one_hot=True)\n",
    "X_train = mnist.train.images"
   ]
  },
  {
   "cell_type": "code",
   "execution_count": 4,
   "metadata": {},
   "outputs": [],
   "source": [
    "# patameters\n",
    "n_steps = 50\n",
    "batch_size = 1024\n",
    "k = 25\n",
    "n_classes = 10\n",
    "n_features = 784"
   ]
  },
  {
   "cell_type": "code",
   "execution_count": 5,
   "metadata": {},
   "outputs": [],
   "source": [
    "X = tf.placeholder(tf.float32, shape=[None, n_features])\n",
    "Y = tf.placeholder(tf.float32, shape=[None, n_classes])\n",
    "\n",
    "kmeans = KMeans(inputs=X, num_clusters=k, distance_metric='cosine', use_mini_batch=True)"
   ]
  },
  {
   "cell_type": "code",
   "execution_count": 9,
   "metadata": {},
   "outputs": [],
   "source": [
    "# build k-means graph\n",
    "all_scores, cluster_idx, scores, cluster_centers_initialized, init_op, train_op = kmeans.training_graph()\n",
    "cluster_idx = cluster_idx[0]\n",
    "avg_distance = tf.reduce_mean(scores)"
   ]
  },
  {
   "cell_type": "code",
   "execution_count": 10,
   "metadata": {},
   "outputs": [
    {
     "name": "stdout",
     "output_type": "stream",
     "text": [
      "step: 1 \t avg distance: 0.341471\n",
      "step: 10 \t avg distance: 0.221609\n",
      "step: 20 \t avg distance: 0.220328\n",
      "step: 30 \t avg distance: 0.219776\n",
      "step: 40 \t avg distance: 0.219419\n",
      "step: 50 \t avg distance: 0.219154\n"
     ]
    }
   ],
   "source": [
    "init = tf.global_variables_initializer()\n",
    "\n",
    "sess = tf.Session()\n",
    "sess.run(init, feed_dict={X: X_train})\n",
    "sess.run(init_op, feed_dict={X: X_train})\n",
    "\n",
    "# training\n",
    "for i in range(1, n_steps + 1):\n",
    "    _, dist, idx = sess.run([train_op, avg_distance, cluster_idx], feed_dict={X: X_train})\n",
    "    if(i % 10 == 0 or i == 1):\n",
    "        print('step: %i \\t avg distance: %f' % (i, dist))"
   ]
  },
  {
   "cell_type": "code",
   "execution_count": 14,
   "metadata": {},
   "outputs": [
    {
     "name": "stdout",
     "output_type": "stream",
     "text": [
      "accuracy:  0.7127\n"
     ]
    }
   ],
   "source": [
    "counts = np.zeros(shape=(k, n_classes))\n",
    "for i in range(len(idx)):\n",
    "    counts[idx[i]] += mnist.train.labels[i]\n",
    "\n",
    "labels_map = [np.argmax(c) for c in counts]\n",
    "labels_map = tf.convert_to_tensor(labels_map)\n",
    "\n",
    "cluster_labels = tf.nn.embedding_lookup(labels_map, cluster_idx)\n",
    "\n",
    "correct_prediction = tf.equal(cluster_labels, tf.cast(tf.argmax(Y, 1), tf.int32))\n",
    "accuracy_op = tf.reduce_mean(tf.cast(correct_prediction, tf.float32))\n",
    "\n",
    "test_x, test_y = mnist.test.images, mnist.test.labels\n",
    "print('accuracy: ', sess.run(accuracy_op, feed_dict={X: test_x, Y: test_y}))"
   ]
  }
 ],
 "metadata": {
  "kernelspec": {
   "display_name": "Python 3",
   "language": "python",
   "name": "python3"
  },
  "language_info": {
   "codemirror_mode": {
    "name": "ipython",
    "version": 3
   },
   "file_extension": ".py",
   "mimetype": "text/x-python",
   "name": "python",
   "nbconvert_exporter": "python",
   "pygments_lexer": "ipython3",
   "version": "3.6.7"
  }
 },
 "nbformat": 4,
 "nbformat_minor": 2
}
