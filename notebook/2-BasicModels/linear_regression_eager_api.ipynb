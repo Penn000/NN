{
 "cells": [
  {
   "cell_type": "markdown",
   "metadata": {},
   "source": [
    "# Linear Regression with Eager API"
   ]
  },
  {
   "cell_type": "code",
   "execution_count": 1,
   "metadata": {},
   "outputs": [],
   "source": [
    "from __future__ import absolute_import, division, print_function\n",
    "\n",
    "import tensorflow as tf\n",
    "import numpy as np\n",
    "import matplotlib.pyplot as plt"
   ]
  },
  {
   "cell_type": "code",
   "execution_count": 2,
   "metadata": {},
   "outputs": [],
   "source": [
    "# set eager api\n",
    "tf.enable_eager_execution()\n",
    "tfe = tf.contrib.eager"
   ]
  },
  {
   "cell_type": "code",
   "execution_count": 3,
   "metadata": {},
   "outputs": [
    {
     "name": "stdout",
     "output_type": "stream",
     "text": [
      "(20, 1)\n",
      "(20, 1)\n"
     ]
    }
   ],
   "source": [
    "# training data\n",
    "n_samples = 20\n",
    "X = np.arange(n_samples).reshape((n_samples, 1))\n",
    "Y = 1.5 * X + np.random.randn(n_samples, 1) + 5\n",
    "print(X.shape)\n",
    "print(Y.shape)"
   ]
  },
  {
   "cell_type": "code",
   "execution_count": 4,
   "metadata": {},
   "outputs": [],
   "source": [
    "# parameters\n",
    "learning_rate = 0.01\n",
    "n_steps = 2000\n",
    "display_step = 50"
   ]
  },
  {
   "cell_type": "code",
   "execution_count": 5,
   "metadata": {},
   "outputs": [],
   "source": [
    "# model parameters\n",
    "W = tfe.Variable(tf.random_normal([1, 1]), name='weights')\n",
    "b = tfe.Variable(tf.zeros([1, 1]), name='bias')\n",
    "\n",
    "def linear_regression(X):\n",
    "    return X * W + b\n",
    "\n",
    "def loss_fn(model_fn, X, label):\n",
    "    return tf.reduce_sum(tf.pow(model_fn(X) - label, 2)) / (2 * n_samples)\n",
    "\n",
    "# SGD optimizer\n",
    "optimizer = tf.train.GradientDescentOptimizer(learning_rate=learning_rate)\n",
    "\n",
    "# compute gradient\n",
    "grad = tfe.implicit_gradients(loss_fn)"
   ]
  },
  {
   "cell_type": "code",
   "execution_count": 6,
   "metadata": {},
   "outputs": [
    {
     "name": "stdout",
     "output_type": "stream",
     "text": [
      "initial loss = 11.091503143 W = [[1.5254859]] b = [[0.]]\n",
      "step: 50 loss: 3.220890045 W: 1.8105724 b: 0.67581856\n",
      "step: 100 loss: 2.570645094 W: 1.7667494 b: 1.244283\n",
      "step: 150 loss: 2.073268175 W: 1.7284223 b: 1.7414559\n",
      "step: 200 loss: 1.692823648 W: 1.6949018 b: 2.1762767\n",
      "step: 250 loss: 1.401818514 W: 1.6655852 b: 2.556567\n",
      "step: 300 loss: 1.179226518 W: 1.6399453 b: 2.8891647\n",
      "step: 350 loss: 1.008965254 W: 1.6175208 b: 3.1800504\n",
      "step: 400 loss: 0.878730774 W: 1.5979086 b: 3.4344568\n",
      "step: 450 loss: 0.779113829 W: 1.580756 b: 3.6569576\n",
      "step: 500 loss: 0.702916801 W: 1.5657545 b: 3.8515534\n",
      "step: 550 loss: 0.644632459 W: 1.5526344 b: 4.021746\n",
      "step: 600 loss: 0.600050628 W: 1.5411595 b: 4.1705947\n",
      "step: 650 loss: 0.565949678 W: 1.5311239 b: 4.3007755\n",
      "step: 700 loss: 0.539865792 W: 1.5223467 b: 4.414631\n",
      "step: 750 loss: 0.519914329 W: 1.5146705 b: 4.514207\n",
      "step: 800 loss: 0.504653037 W: 1.5079569 b: 4.601294\n",
      "step: 850 loss: 0.492979378 W: 1.5020851 b: 4.6774616\n",
      "step: 900 loss: 0.484050512 W: 1.4969499 b: 4.7440753\n",
      "step: 950 loss: 0.477220774 W: 1.4924586 b: 4.8023357\n",
      "step: 1000 loss: 0.471996605 W: 1.4885306 b: 4.853288\n",
      "step: 1050 loss: 0.468000591 W: 1.4850954 b: 4.89785\n",
      "step: 1100 loss: 0.464944065 W: 1.4820907 b: 4.936825\n",
      "step: 1150 loss: 0.462606251 W: 1.4794631 b: 4.970911\n",
      "step: 1200 loss: 0.460817754 W: 1.4771649 b: 5.0007234\n",
      "step: 1250 loss: 0.459449857 W: 1.4751549 b: 5.026796\n",
      "step: 1300 loss: 0.458403647 W: 1.4733969 b: 5.0495996\n",
      "step: 1350 loss: 0.457603067 W: 1.4718595 b: 5.0695434\n",
      "step: 1400 loss: 0.456990808 W: 1.4705149 b: 5.0869856\n",
      "step: 1450 loss: 0.456522852 W: 1.4693389 b: 5.1022406\n",
      "step: 1500 loss: 0.456164420 W: 1.4683104 b: 5.115582\n",
      "step: 1550 loss: 0.455890477 W: 1.4674109 b: 5.1272497\n",
      "step: 1600 loss: 0.455681175 W: 1.4666241 b: 5.1374555\n",
      "step: 1650 loss: 0.455520451 W: 1.4659358 b: 5.1463842\n",
      "step: 1700 loss: 0.455397934 W: 1.465334 b: 5.15419\n",
      "step: 1750 loss: 0.455304235 W: 1.4648077 b: 5.1610174\n",
      "step: 1800 loss: 0.455232620 W: 1.4643474 b: 5.166989\n",
      "step: 1850 loss: 0.455177546 W: 1.4639448 b: 5.172211\n",
      "step: 1900 loss: 0.455135584 W: 1.4635926 b: 5.1767793\n",
      "step: 1950 loss: 0.455103695 W: 1.4632847 b: 5.180773\n",
      "step: 2000 loss: 0.455078900 W: 1.4630156 b: 5.1842656\n"
     ]
    }
   ],
   "source": [
    "print('initial loss = {:.9f}'.format(loss_fn(linear_regression, X, Y)),\n",
    "      'W =', W.numpy(), 'b =', b.numpy()\n",
    "     )\n",
    "\n",
    "for i in range(n_steps):\n",
    "    optimizer.apply_gradients(grad(linear_regression, X, Y))\n",
    "    if (i + 1) % display_step == 0:\n",
    "        print('step:', i+1, 'loss: {:.9f}'.format(loss_fn(linear_regression, X, Y)), 'W:', W.numpy()[0][0], 'b:', b.numpy()[0][0])"
   ]
  },
  {
   "cell_type": "code",
   "execution_count": 8,
   "metadata": {},
   "outputs": [
    {
     "data": {
      "image/png": "[encoded data removed]",
      "text/plain": [
       "<Figure size 432x288 with 1 Axes>"
      ]
     },
     "metadata": {
      "needs_background": "light"
     },
     "output_type": "display_data"
    }
   ],
   "source": [
    "plt.plot(X, Y, 'ro', label='raw_data')\n",
    "plt.plot(X, W.numpy()[0][0] * X + b.numpy()[0][0], label='predict line')\n",
    "plt.legend()\n",
    "plt.show()"
   ]
  }
 ],
 "metadata": {
  "kernelspec": {
   "display_name": "Python 3",
   "language": "python",
   "name": "python3"
  },
  "language_info": {
   "codemirror_mode": {
    "name": "ipython",
    "version": 3
   },
   "file_extension": ".py",
   "mimetype": "text/x-python",
   "name": "python",
   "nbconvert_exporter": "python",
   "pygments_lexer": "ipython3",
   "version": "3.6.7"
  }
 },
 "nbformat": 4,
 "nbformat_minor": 2
}
