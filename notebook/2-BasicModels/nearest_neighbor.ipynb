{
 "cells": [
  {
   "cell_type": "markdown",
   "metadata": {},
   "source": [
    "# Nearest Neighbor example"
   ]
  },
  {
   "cell_type": "code",
   "execution_count": 2,
   "metadata": {},
   "outputs": [
    {
     "name": "stdout",
     "output_type": "stream",
     "text": [
      "Extracting /tmp/data/train-images-idx3-ubyte.gz\n",
      "Extracting /tmp/data/train-labels-idx1-ubyte.gz\n",
      "Extracting /tmp/data/t10k-images-idx3-ubyte.gz\n",
      "Extracting /tmp/data/t10k-labels-idx1-ubyte.gz\n"
     ]
    }
   ],
   "source": [
    "import tensorflow as tf\n",
    "import numpy as np\n",
    "\n",
    "from tensorflow.examples.tutorials.mnist import input_data\n",
    "mnist = input_data.read_data_sets('/tmp/data/', one_hot=True)"
   ]
  },
  {
   "cell_type": "code",
   "execution_count": 14,
   "metadata": {},
   "outputs": [],
   "source": [
    "X_train, y_train = mnist.train.next_batch(5000)\n",
    "X_test, y_test = mnist.test.next_batch(100)"
   ]
  },
  {
   "cell_type": "code",
   "execution_count": 7,
   "metadata": {},
   "outputs": [
    {
     "name": "stdout",
     "output_type": "stream",
     "text": [
      "[[0 1 2]\n",
      " [3 4 5]\n",
      " [6 7 8]]\n"
     ]
    }
   ],
   "source": [
    "# 矩阵与向量的减法\n",
    "# 矩阵的每一个行向量与向量做减法\n",
    "a = np.array([\n",
    "    [1, 2, 3],\n",
    "    [4, 5, 6],\n",
    "    [7, 8, 9]\n",
    "])\n",
    "b = np.array([1, 1, 1])\n",
    "print(a - b)"
   ]
  },
  {
   "cell_type": "code",
   "execution_count": 8,
   "metadata": {},
   "outputs": [],
   "source": [
    "# tf graph inputs\n",
    "x_train = tf.placeholder(tf.float32, [None, 784])\n",
    "x_test = tf.placeholder(tf.float32, [784]) # 每次输入一张图片测试\n",
    "\n",
    "# L1 distance\n",
    "# 矩阵x_train的每一个行向量减去向量x_test，然后对每个行向量的元素的绝对值求和，作为测试样本与该训练样本的距离\n",
    "distance = tf.reduce_sum(tf.abs(tf.add(x_train, tf.negative(x_test))), reduction_indices=1)\n",
    "\n",
    "# 找到训练集中于测试样本距离最近的样本，用该样本的类别作为测试样本的类别\n",
    "y_pred = tf.argmin(distance, axis=0)"
   ]
  },
  {
   "cell_type": "code",
   "execution_count": 15,
   "metadata": {},
   "outputs": [
    {
     "name": "stdout",
     "output_type": "stream",
     "text": [
      "test sample 0 \t prediction: 2 ground truth: 2\n",
      "test sample 1 \t prediction: 1 ground truth: 1\n",
      "test sample 2 \t prediction: 1 ground truth: 1\n",
      "test sample 3 \t prediction: 7 ground truth: 7\n",
      "test sample 4 \t prediction: 8 ground truth: 5\n",
      "test sample 5 \t prediction: 0 ground truth: 0\n",
      "test sample 6 \t prediction: 1 ground truth: 1\n",
      "test sample 7 \t prediction: 0 ground truth: 0\n",
      "test sample 8 \t prediction: 2 ground truth: 2\n",
      "test sample 9 \t prediction: 6 ground truth: 6\n",
      "test sample 10 \t prediction: 9 ground truth: 9\n",
      "test sample 11 \t prediction: 2 ground truth: 2\n",
      "test sample 12 \t prediction: 2 ground truth: 2\n",
      "test sample 13 \t prediction: 3 ground truth: 3\n",
      "test sample 14 \t prediction: 8 ground truth: 8\n",
      "test sample 15 \t prediction: 2 ground truth: 2\n",
      "test sample 16 \t prediction: 6 ground truth: 6\n",
      "test sample 17 \t prediction: 2 ground truth: 2\n",
      "test sample 18 \t prediction: 6 ground truth: 6\n",
      "test sample 19 \t prediction: 0 ground truth: 0\n",
      "test sample 20 \t prediction: 6 ground truth: 6\n",
      "test sample 21 \t prediction: 4 ground truth: 4\n",
      "test sample 22 \t prediction: 1 ground truth: 1\n",
      "test sample 23 \t prediction: 3 ground truth: 3\n",
      "test sample 24 \t prediction: 2 ground truth: 2\n",
      "test sample 25 \t prediction: 8 ground truth: 8\n",
      "test sample 26 \t prediction: 1 ground truth: 1\n",
      "test sample 27 \t prediction: 0 ground truth: 0\n",
      "test sample 28 \t prediction: 1 ground truth: 1\n",
      "test sample 29 \t prediction: 3 ground truth: 3\n",
      "test sample 30 \t prediction: 2 ground truth: 2\n",
      "test sample 31 \t prediction: 2 ground truth: 2\n",
      "test sample 32 \t prediction: 7 ground truth: 7\n",
      "test sample 33 \t prediction: 3 ground truth: 3\n",
      "test sample 34 \t prediction: 9 ground truth: 4\n",
      "test sample 35 \t prediction: 8 ground truth: 8\n",
      "test sample 36 \t prediction: 9 ground truth: 9\n",
      "test sample 37 \t prediction: 3 ground truth: 3\n",
      "test sample 38 \t prediction: 4 ground truth: 4\n",
      "test sample 39 \t prediction: 9 ground truth: 3\n",
      "test sample 40 \t prediction: 2 ground truth: 2\n",
      "test sample 41 \t prediction: 6 ground truth: 6\n",
      "test sample 42 \t prediction: 0 ground truth: 0\n",
      "test sample 43 \t prediction: 2 ground truth: 2\n",
      "test sample 44 \t prediction: 6 ground truth: 6\n",
      "test sample 45 \t prediction: 8 ground truth: 8\n",
      "test sample 46 \t prediction: 5 ground truth: 5\n",
      "test sample 47 \t prediction: 3 ground truth: 3\n",
      "test sample 48 \t prediction: 8 ground truth: 8\n",
      "test sample 49 \t prediction: 3 ground truth: 3\n",
      "test sample 50 \t prediction: 5 ground truth: 3\n",
      "test sample 51 \t prediction: 8 ground truth: 3\n",
      "test sample 52 \t prediction: 5 ground truth: 5\n",
      "test sample 53 \t prediction: 3 ground truth: 3\n",
      "test sample 54 \t prediction: 5 ground truth: 5\n",
      "test sample 55 \t prediction: 1 ground truth: 1\n",
      "test sample 56 \t prediction: 7 ground truth: 7\n",
      "test sample 57 \t prediction: 4 ground truth: 4\n",
      "test sample 58 \t prediction: 0 ground truth: 0\n",
      "test sample 59 \t prediction: 5 ground truth: 5\n",
      "test sample 60 \t prediction: 2 ground truth: 2\n",
      "test sample 61 \t prediction: 2 ground truth: 2\n",
      "test sample 62 \t prediction: 2 ground truth: 2\n",
      "test sample 63 \t prediction: 9 ground truth: 9\n",
      "test sample 64 \t prediction: 1 ground truth: 1\n",
      "test sample 65 \t prediction: 6 ground truth: 6\n",
      "test sample 66 \t prediction: 6 ground truth: 6\n",
      "test sample 67 \t prediction: 7 ground truth: 7\n",
      "test sample 68 \t prediction: 7 ground truth: 7\n",
      "test sample 69 \t prediction: 2 ground truth: 2\n",
      "test sample 70 \t prediction: 2 ground truth: 2\n",
      "test sample 71 \t prediction: 4 ground truth: 4\n",
      "test sample 72 \t prediction: 1 ground truth: 1\n",
      "test sample 73 \t prediction: 1 ground truth: 1\n",
      "test sample 74 \t prediction: 6 ground truth: 6\n",
      "test sample 75 \t prediction: 7 ground truth: 7\n",
      "test sample 76 \t prediction: 9 ground truth: 9\n",
      "test sample 77 \t prediction: 2 ground truth: 2\n",
      "test sample 78 \t prediction: 8 ground truth: 8\n",
      "test sample 79 \t prediction: 1 ground truth: 1\n",
      "test sample 80 \t prediction: 2 ground truth: 2\n",
      "test sample 81 \t prediction: 1 ground truth: 8\n",
      "test sample 82 \t prediction: 1 ground truth: 1\n",
      "test sample 83 \t prediction: 4 ground truth: 4\n",
      "test sample 84 \t prediction: 1 ground truth: 1\n",
      "test sample 85 \t prediction: 3 ground truth: 3\n",
      "test sample 86 \t prediction: 4 ground truth: 4\n",
      "test sample 87 \t prediction: 7 ground truth: 9\n",
      "test sample 88 \t prediction: 1 ground truth: 1\n",
      "test sample 89 \t prediction: 1 ground truth: 1\n",
      "test sample 90 \t prediction: 1 ground truth: 1\n",
      "test sample 91 \t prediction: 3 ground truth: 3\n",
      "test sample 92 \t prediction: 6 ground truth: 6\n",
      "test sample 93 \t prediction: 1 ground truth: 1\n",
      "test sample 94 \t prediction: 6 ground truth: 6\n",
      "test sample 95 \t prediction: 1 ground truth: 1\n",
      "test sample 96 \t prediction: 4 ground truth: 4\n",
      "test sample 97 \t prediction: 9 ground truth: 9\n",
      "test sample 98 \t prediction: 1 ground truth: 1\n",
      "test sample 99 \t prediction: 4 ground truth: 4\n",
      "\n",
      "Accuracy: 0.9300000000000006\n"
     ]
    }
   ],
   "source": [
    "with tf.Session() as sess:\n",
    "    init = tf.global_variables_initializer()\n",
    "    sess.run(init)\n",
    "    accuracy = 0.\n",
    "    for i in range(len(X_test)):\n",
    "        idx = sess.run(y_pred, feed_dict={x_train: X_train, x_test: X_test[i]})\n",
    "        print('test sample', i, '\\t prediction:', np.argmax(y_train[idx]), 'ground truth:', np.argmax(y_test[i]))\n",
    "        if(np.argmax(y_train[idx]) == np.argmax(y_test[i])):\n",
    "            accuracy += 1 / len(X_test)\n",
    "    \n",
    "    print('\\nAccuracy:', accuracy)"
   ]
  }
 ],
 "metadata": {
  "kernelspec": {
   "display_name": "Python 3",
   "language": "python",
   "name": "python3"
  },
  "language_info": {
   "codemirror_mode": {
    "name": "ipython",
    "version": 3
   },
   "file_extension": ".py",
   "mimetype": "text/x-python",
   "name": "python",
   "nbconvert_exporter": "python",
   "pygments_lexer": "ipython3",
   "version": "3.6.7"
  }
 },
 "nbformat": 4,
 "nbformat_minor": 2
}
