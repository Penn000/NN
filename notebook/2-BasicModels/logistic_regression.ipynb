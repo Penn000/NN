{
 "cells": [
  {
   "cell_type": "markdown",
   "metadata": {},
   "source": [
    "# Logistic Regression example"
   ]
  },
  {
   "cell_type": "code",
   "execution_count": 3,
   "metadata": {},
   "outputs": [
    {
     "name": "stdout",
     "output_type": "stream",
     "text": [
      "Extracting /tmp/data/train-images-idx3-ubyte.gz\n",
      "Extracting /tmp/data/train-labels-idx1-ubyte.gz\n",
      "Extracting /tmp/data/t10k-images-idx3-ubyte.gz\n",
      "Extracting /tmp/data/t10k-labels-idx1-ubyte.gz\n"
     ]
    }
   ],
   "source": [
    "import tensorflow as tf\n",
    "\n",
    "from tensorflow.examples.tutorials.mnist import input_data\n",
    "mnist = input_data.read_data_sets('/tmp/data/', one_hot=True)"
   ]
  },
  {
   "cell_type": "code",
   "execution_count": 16,
   "metadata": {},
   "outputs": [],
   "source": [
    "# parameters\n",
    "learning_rate = 0.05\n",
    "n_epochs = 50\n",
    "batch_size = 32\n",
    "display_step = 1"
   ]
  },
  {
   "cell_type": "code",
   "execution_count": 6,
   "metadata": {},
   "outputs": [],
   "source": [
    "# tf graph input\n",
    "X = tf.placeholder(tf.float32, [None, 784])\n",
    "label = tf.placeholder(tf.float32, [None, 10])\n",
    "\n",
    "# set model weights\n",
    "W = tf.Variable(tf.random_normal([784, 10]), name='weights')\n",
    "b = tf.Variable(tf.zeros([10]), name='bias')\n",
    "\n",
    "# model\n",
    "y_pred = tf.nn.softmax(tf.matmul(X, W) + b)\n",
    "\n",
    "# loss using cross entropy\n",
    "loss = tf.reduce_mean(-tf.reduce_sum(label * tf.log(y_pred), reduction_indices=1))\n",
    "\n",
    "train = tf.train.GradientDescentOptimizer(learning_rate).minimize(loss)"
   ]
  },
  {
   "cell_type": "code",
   "execution_count": 17,
   "metadata": {},
   "outputs": [
    {
     "name": "stdout",
     "output_type": "stream",
     "text": [
      "epoch: 1 loss: 5.981922547531349\n",
      "epoch: 2 loss: 2.157702386587404\n",
      "epoch: 3 loss: 1.5446756565216953\n",
      "epoch: 4 loss: 1.3099471479654305\n",
      "epoch: 5 loss: 1.1472386594935495\n",
      "epoch: 6 loss: 1.0530125487431006\n",
      "epoch: 7 loss: 0.9861805740076004\n",
      "epoch: 8 loss: 0.9205457743049115\n",
      "epoch: 9 loss: 0.8714474364941691\n",
      "epoch: 10 loss: 0.8487397583203691\n",
      "epoch: 11 loss: 0.7932413507380868\n",
      "epoch: 12 loss: 0.7751617828889286\n",
      "epoch: 13 loss: 0.7598044121268243\n",
      "epoch: 14 loss: 0.7404222613714466\n",
      "epoch: 15 loss: 0.696493762510593\n",
      "epoch: 16 loss: 0.6975778226092298\n",
      "epoch: 17 loss: 0.6840684875483781\n",
      "epoch: 18 loss: 0.6602490321278778\n",
      "epoch: 19 loss: 0.6482482673402451\n",
      "epoch: 20 loss: 0.6387607482325924\n",
      "epoch: 21 loss: 0.6343907475573406\n",
      "epoch: 22 loss: 0.6077788229337838\n",
      "epoch: 23 loss: 0.6043628472813132\n",
      "epoch: 24 loss: 0.5930960381390546\n",
      "epoch: 25 loss: 0.5855806568465097\n",
      "epoch: 26 loss: 0.589003381329102\n",
      "epoch: 27 loss: 0.5626056509252906\n",
      "epoch: 28 loss: 0.5595865602181115\n",
      "epoch: 29 loss: 0.5529348369936085\n",
      "epoch: 30 loss: 0.5488345173905295\n",
      "epoch: 31 loss: 0.5468050427203598\n",
      "epoch: 32 loss: 0.5288544186977486\n",
      "epoch: 33 loss: 0.5265088895643701\n",
      "epoch: 34 loss: 0.5362664201493106\n",
      "epoch: 35 loss: 0.510985526834138\n",
      "epoch: 36 loss: 0.5118103752105696\n",
      "epoch: 37 loss: 0.5115917057039624\n",
      "epoch: 38 loss: 0.5034880433643585\n",
      "epoch: 39 loss: 0.5001656351257572\n",
      "epoch: 40 loss: 0.4904952596176996\n",
      "epoch: 41 loss: 0.49555687246599167\n",
      "epoch: 42 loss: 0.48984633879063816\n",
      "epoch: 43 loss: 0.4780685628284031\n",
      "epoch: 44 loss: 0.47821748088795984\n",
      "epoch: 45 loss: 0.48192510918775955\n",
      "epoch: 46 loss: 0.46277453323199486\n",
      "epoch: 47 loss: 0.47019513430479315\n",
      "epoch: 48 loss: 0.46614718512980036\n",
      "epoch: 49 loss: 0.45808676001751236\n",
      "epoch: 50 loss: 0.4592551571177159\n",
      "\n",
      "Accuracy:  0.8576667\n"
     ]
    }
   ],
   "source": [
    "with tf.Session() as sess:\n",
    "    init = tf.global_variables_initializer()\n",
    "    sess.run(init)\n",
    "    \n",
    "    # train\n",
    "    for epoch in range(n_epochs):\n",
    "        n_batch = mnist.train.num_examples // batch_size\n",
    "        avg_loss = 0.\n",
    "        for i in range(n_batch):\n",
    "            batch_X, batch_y = mnist.train.next_batch(batch_size)\n",
    "            _, l = sess.run([train, loss], feed_dict={X: batch_X, label: batch_y})\n",
    "            avg_loss += l / n_batch\n",
    "        if (epoch + 1) % display_step == 0:\n",
    "            print('epoch:', epoch+1, 'loss:', avg_loss)\n",
    "            \n",
    "    # test\n",
    "    correct_prediction = tf.equal(tf.argmax(y_pred, 1), tf.argmax(label, 1))\n",
    "    accuracy = tf.reduce_mean(tf.cast(correct_prediction, tf.float32))\n",
    "    print('\\nAccuracy: ', accuracy.eval({X: mnist.test.images[: 3000], label: mnist.test.labels[: 3000]}))"
   ]
  }
 ],
 "metadata": {
  "kernelspec": {
   "display_name": "Python 3",
   "language": "python",
   "name": "python3"
  },
  "language_info": {
   "codemirror_mode": {
    "name": "ipython",
    "version": 3
   },
   "file_extension": ".py",
   "mimetype": "text/x-python",
   "name": "python",
   "nbconvert_exporter": "python",
   "pygments_lexer": "ipython3",
   "version": "3.6.7"
  }
 },
 "nbformat": 4,
 "nbformat_minor": 2
}
