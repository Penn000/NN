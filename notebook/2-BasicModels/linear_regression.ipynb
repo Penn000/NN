{
 "cells": [
  {
   "cell_type": "markdown",
   "metadata": {},
   "source": [
    "# Linear Regression examples"
   ]
  },
  {
   "cell_type": "code",
   "execution_count": 1,
   "metadata": {},
   "outputs": [],
   "source": [
    "import tensorflow as tf\n",
    "import numpy as np\n",
    "import matplotlib.pyplot as plt"
   ]
  },
  {
   "cell_type": "code",
   "execution_count": 8,
   "metadata": {},
   "outputs": [
    {
     "name": "stdout",
     "output_type": "stream",
     "text": [
      "(20, 1)\n",
      "(20, 1)\n"
     ]
    }
   ],
   "source": [
    "# training data\n",
    "n_samples = 20\n",
    "X = np.arange(n_samples).reshape((n_samples, 1))\n",
    "Y = 1.5 * X + np.random.randn(n_samples, 1) + 5\n",
    "print(X.shape)\n",
    "print(Y.shape)"
   ]
  },
  {
   "cell_type": "code",
   "execution_count": 3,
   "metadata": {},
   "outputs": [],
   "source": [
    "# tf graph input\n",
    "x_ph = tf.placeholder(tf.float32, [None, 1])\n",
    "y_ph = tf.placeholder(tf.float32, [None, 1])\n",
    "\n",
    "# model parameters\n",
    "W = tf.Variable(tf.random_normal([1, 1]), name='weights')\n",
    "b = tf.Variable(tf.zeros([1, 1]), name='bias')"
   ]
  },
  {
   "cell_type": "code",
   "execution_count": 4,
   "metadata": {},
   "outputs": [],
   "source": [
    "# parameters\n",
    "learning_rate = 0.1\n",
    "epochs = 1000\n",
    "display_step = 50"
   ]
  },
  {
   "cell_type": "code",
   "execution_count": 5,
   "metadata": {},
   "outputs": [],
   "source": [
    "y_pred = tf.matmul(W, x_ph) + b\n",
    "loss = tf.reduce_sum(tf.pow(y_pred - y_ph, 2)) / (2 * n_samples)\n",
    "train = tf.train.GradientDescentOptimizer(learning_rate).minimize(loss)"
   ]
  },
  {
   "cell_type": "code",
   "execution_count": 9,
   "metadata": {},
   "outputs": [
    {
     "name": "stdout",
     "output_type": "stream",
     "text": [
      "epoch: 50 loss = 0.0040968163 w = 1.6477731 b = 3.326652\n",
      "epoch: 100 loss = 0.0046135713 w = 1.5971636 b = 4.313007\n",
      "epoch: 150 loss = 0.0047980156 w = 1.5797757 b = 4.651882\n",
      "epoch: 200 loss = 0.004862403 w = 1.5738025 b = 4.768303\n",
      "epoch: 250 loss = 0.0048845513 w = 1.5717498 b = 4.808305\n",
      "epoch: 300 loss = 0.0048923953 w = 1.5710452 b = 4.8220468\n",
      "epoch: 350 loss = 0.0048949267 w = 1.5708025 b = 4.8267713\n",
      "epoch: 400 loss = 0.004895855 w = 1.5707192 b = 4.8283944\n",
      "epoch: 450 loss = 0.004896193 w = 1.5706908 b = 4.828952\n",
      "epoch: 500 loss = 0.004896193 w = 1.5706809 b = 4.8291426\n",
      "epoch: 550 loss = 0.004896277 w = 1.5706775 b = 4.8292065\n",
      "epoch: 600 loss = 0.004896277 w = 1.5706766 b = 4.8292255\n",
      "epoch: 650 loss = 0.004896277 w = 1.5706766 b = 4.8292255\n",
      "epoch: 700 loss = 0.004896277 w = 1.5706766 b = 4.8292255\n",
      "epoch: 750 loss = 0.004896277 w = 1.5706766 b = 4.8292255\n",
      "epoch: 800 loss = 0.004896277 w = 1.5706766 b = 4.8292255\n",
      "epoch: 850 loss = 0.004896277 w = 1.5706766 b = 4.8292255\n",
      "epoch: 900 loss = 0.004896277 w = 1.5706766 b = 4.8292255\n",
      "epoch: 950 loss = 0.004896277 w = 1.5706766 b = 4.8292255\n",
      "epoch: 1000 loss = 0.004896277 w = 1.5706766 b = 4.8292255\n"
     ]
    }
   ],
   "source": [
    "with tf.Session() as sess:\n",
    "    init = tf.global_variables_initializer()\n",
    "    sess.run(init)\n",
    "    \n",
    "    for epoch in range(epochs):\n",
    "        for (x, y) in zip(X, Y):\n",
    "            sess.run(train, feed_dict={x_ph: [x], y_ph: [y]})\n",
    "        if (epoch + 1) % display_step == 0:\n",
    "            l = sess.run(loss, feed_dict={x_ph: [x], y_ph: [y]})\n",
    "            print('epoch:', epoch+1, 'loss =', l, 'w =', sess.run(W[0][0]), 'b =', sess.run(b[0][0]))\n",
    "    \n",
    "    w_pred = sess.run(W[0][0])\n",
    "    b_pred = sess.run(b[0][0])"
   ]
  },
  {
   "cell_type": "code",
   "execution_count": 10,
   "metadata": {},
   "outputs": [
    {
     "data": {
      "image/png": "[encoded data removed]",
      "text/plain": [
       "<Figure size 432x288 with 1 Axes>"
      ]
     },
     "metadata": {
      "needs_background": "light"
     },
     "output_type": "display_data"
    }
   ],
   "source": [
    "plt.plot(X, Y, 'ro', label='raw data')\n",
    "plt.plot(X, w_pred * X + b_pred, 'b', label='fitted line')\n",
    "plt.legend()\n",
    "plt.show()"
   ]
  }
 ],
 "metadata": {
  "kernelspec": {
   "display_name": "Python 3",
   "language": "python",
   "name": "python3"
  },
  "language_info": {
   "codemirror_mode": {
    "name": "ipython",
    "version": 3
   },
   "file_extension": ".py",
   "mimetype": "text/x-python",
   "name": "python",
   "nbconvert_exporter": "python",
   "pygments_lexer": "ipython3",
   "version": "3.6.7"
  }
 },
 "nbformat": 4,
 "nbformat_minor": 2
}
