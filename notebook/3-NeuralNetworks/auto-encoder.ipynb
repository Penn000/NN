{
 "cells": [
  {
   "cell_type": "markdown",
   "metadata": {},
   "source": [
    "# Auto-Encoder"
   ]
  },
  {
   "cell_type": "code",
   "execution_count": 1,
   "metadata": {},
   "outputs": [],
   "source": [
    "from __future__ import division, print_function, absolute_import\n",
    "\n",
    "import tensorflow as tf\n",
    "import numpy as np\n",
    "import matplotlib.pyplot as plt"
   ]
  },
  {
   "cell_type": "code",
   "execution_count": 3,
   "metadata": {},
   "outputs": [
    {
     "name": "stdout",
     "output_type": "stream",
     "text": [
      "Extracting /tmp/data/train-images-idx3-ubyte.gz\n",
      "Extracting /tmp/data/train-labels-idx1-ubyte.gz\n",
      "Extracting /tmp/data/t10k-images-idx3-ubyte.gz\n",
      "Extracting /tmp/data/t10k-labels-idx1-ubyte.gz\n"
     ]
    }
   ],
   "source": [
    "from tensorflow.examples.tutorials.mnist import input_data\n",
    "mnist = input_data.read_data_sets('/tmp/data/', one_hot=True)"
   ]
  },
  {
   "cell_type": "code",
   "execution_count": 4,
   "metadata": {},
   "outputs": [],
   "source": [
    "# parameters\n",
    "learning_rate = 0.01\n",
    "n_steps = 30000\n",
    "batch_size = 256\n",
    "display_step = 1000\n",
    "samples_to_show = 10\n",
    "\n",
    "# network parameters\n",
    "n_hidden_1 = 256\n",
    "n_hidden_2 = 128\n",
    "n_input = 784\n",
    "\n",
    "# tf graph input\n",
    "X = tf.placeholder(tf.float32, [None, n_input])\n",
    "\n",
    "weights = {\n",
    "    'encoder_h1': tf.Variable(tf.random_normal([n_input, n_hidden_1])),\n",
    "    'encoder_h2': tf.Variable(tf.random_normal([n_hidden_1, n_hidden_2])),\n",
    "    'decoder_h1': tf.Variable(tf.random_normal([n_hidden_2, n_hidden_1])),\n",
    "    'decoder_h2': tf.Variable(tf.random_normal([n_hidden_1, n_input]))\n",
    "}\n",
    "\n",
    "biases = {\n",
    "    'encoder_b1': tf.Variable(tf.random_normal([n_hidden_1])),\n",
    "    'encoder_b2': tf.Variable(tf.random_normal([n_hidden_2])),\n",
    "    'decoder_b1': tf.Variable(tf.random_normal([n_hidden_1])),\n",
    "    'decoder_b2': tf.Variable(tf.random_normal([n_input]))\n",
    "}"
   ]
  },
  {
   "cell_type": "code",
   "execution_count": 11,
   "metadata": {},
   "outputs": [],
   "source": [
    "def encoder(X):\n",
    "    layer1 = tf.nn.sigmoid(\n",
    "        tf.nn.xw_plus_b(X, weights['encoder_h1'], biases['encoder_b1'])\n",
    "    )\n",
    "    layer2 = tf.nn.sigmoid(\n",
    "        tf.nn.xw_plus_b(layer1, weights['encoder_h2'], biases['encoder_b2'])\n",
    "    )\n",
    "    return layer2\n",
    "\n",
    "def decoder(X):\n",
    "    layer1 = tf.nn.sigmoid(\n",
    "        tf.nn.xw_plus_b(X, weights['decoder_h1'], biases['decoder_b1'])\n",
    "    )\n",
    "    layer2 = tf.nn.sigmoid(\n",
    "        tf.nn.xw_plus_b(layer1, weights['decoder_h2'], biases['decoder_b2'])\n",
    "    )\n",
    "    return layer2"
   ]
  },
  {
   "cell_type": "code",
   "execution_count": 14,
   "metadata": {},
   "outputs": [],
   "source": [
    "# construct model\n",
    "encoder_op = encoder(X)\n",
    "decoder_op = decoder(encoder_op)\n",
    "\n",
    "y_true = X\n",
    "y_pred = decoder_op\n",
    "loss = tf.reduce_mean(tf.pow(y_true - y_pred, 2))\n",
    "\n",
    "train = tf.train.RMSPropOptimizer(learning_rate).minimize(loss)\n",
    "\n",
    "init = tf.global_variables_initializer()"
   ]
  },
  {
   "cell_type": "code",
   "execution_count": 15,
   "metadata": {},
   "outputs": [
    {
     "name": "stdout",
     "output_type": "stream",
     "text": [
      "step: 1 \t loss: 0.447468\n",
      "step: 1000 \t loss: 0.150797\n",
      "step: 2000 \t loss: 0.128547\n",
      "step: 3000 \t loss: 0.118040\n",
      "step: 4000 \t loss: 0.106634\n",
      "step: 5000 \t loss: 0.097240\n",
      "step: 6000 \t loss: 0.090099\n",
      "step: 7000 \t loss: 0.088353\n",
      "step: 8000 \t loss: 0.087737\n",
      "step: 9000 \t loss: 0.083386\n",
      "step: 10000 \t loss: 0.086050\n",
      "step: 11000 \t loss: 0.082529\n",
      "step: 12000 \t loss: 0.080506\n",
      "step: 13000 \t loss: 0.080803\n",
      "step: 14000 \t loss: 0.078624\n",
      "step: 15000 \t loss: 0.076705\n",
      "step: 16000 \t loss: 0.074901\n",
      "step: 17000 \t loss: 0.075527\n",
      "step: 18000 \t loss: 0.072966\n",
      "step: 19000 \t loss: 0.071030\n",
      "step: 20000 \t loss: 0.068914\n",
      "step: 21000 \t loss: 0.069763\n",
      "step: 22000 \t loss: 0.070047\n",
      "step: 23000 \t loss: 0.067967\n",
      "step: 24000 \t loss: 0.069055\n",
      "step: 25000 \t loss: 0.068185\n",
      "step: 26000 \t loss: 0.066321\n",
      "step: 27000 \t loss: 0.063541\n",
      "step: 28000 \t loss: 0.063629\n",
      "step: 29000 \t loss: 0.063790\n",
      "step: 30000 \t loss: 0.061868\n"
     ]
    }
   ],
   "source": [
    "sess = tf.Session()\n",
    "sess.run(init)\n",
    "\n",
    "# train\n",
    "for i in range(1, n_steps+1):\n",
    "    batch_X, batch_y = mnist.train.next_batch(batch_size)\n",
    "    \n",
    "    sess.run(train, feed_dict={X: batch_X})\n",
    "    \n",
    "    if i % display_step == 0 or i == 1:\n",
    "        print('step: %i \\t loss: %f' % (i, sess.run(loss, feed_dict={X: batch_X})))"
   ]
  }
 ],
 "metadata": {
  "kernelspec": {
   "display_name": "Python 3",
   "language": "python",
   "name": "python3"
  },
  "language_info": {
   "codemirror_mode": {
    "name": "ipython",
    "version": 3
   },
   "file_extension": ".py",
   "mimetype": "text/x-python",
   "name": "python",
   "nbconvert_exporter": "python",
   "pygments_lexer": "ipython3",
   "version": "3.6.7"
  }
 },
 "nbformat": 4,
 "nbformat_minor": 2
}
