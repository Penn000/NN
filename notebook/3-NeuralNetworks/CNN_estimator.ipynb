{
 "cells": [
  {
   "cell_type": "markdown",
   "metadata": {},
   "source": [
    "# convolutional neural network"
   ]
  },
  {
   "cell_type": "code",
   "execution_count": 2,
   "metadata": {},
   "outputs": [],
   "source": [
    "from __future__ import print_function, division, absolute_import\n",
    "\n",
    "import tensorflow as tf\n",
    "import numpy as np\n",
    "import matplotlib.pyplot as plt"
   ]
  },
  {
   "cell_type": "code",
   "execution_count": 4,
   "metadata": {},
   "outputs": [
    {
     "name": "stdout",
     "output_type": "stream",
     "text": [
      "Extracting /tmp/data/train-images-idx3-ubyte.gz\n",
      "Extracting /tmp/data/train-labels-idx1-ubyte.gz\n",
      "Extracting /tmp/data/t10k-images-idx3-ubyte.gz\n",
      "Extracting /tmp/data/t10k-labels-idx1-ubyte.gz\n"
     ]
    }
   ],
   "source": [
    "from tensorflow.examples.tutorials.mnist import input_data\n",
    "mnist = input_data.read_data_sets('/tmp/data/', one_hot=False)"
   ]
  },
  {
   "cell_type": "code",
   "execution_count": 5,
   "metadata": {},
   "outputs": [],
   "source": [
    "# paramters\n",
    "learning_rate = 0.001\n",
    "n_steps = 2000\n",
    "batch_size = 128\n",
    "display_steps = 50\n",
    "\n",
    "# network parameters\n",
    "d_input = 784\n",
    "n_classes = 10\n",
    "dropout = 0.25"
   ]
  },
  {
   "cell_type": "code",
   "execution_count": 6,
   "metadata": {},
   "outputs": [],
   "source": [
    "def conv_net(x_dict, n_classes, dropout, reuse, is_training):\n",
    "    # define a scope for reusing the variables\n",
    "    with tf.variable_scope('Convnet', reuse=reuse):\n",
    "        # tf estimator input is a dict, in case of multiple inputs\n",
    "        x = x_dict['images']\n",
    "        \n",
    "        # MNIST data input is a 1-D vector of 784 features (28*28 pixels)\n",
    "        # Reshape to match picture format [Height x Width x Channel]\n",
    "        # Tensor input become 4-D: [Batch Size, Height, Width, Channel]\n",
    "        x = tf.reshape(x, [-1, 28, 28, 1])\n",
    "        \n",
    "        conv1 = tf.layers.conv2d(x, filters=32, kernel_size=5, activation=tf.nn.relu)\n",
    "        pool1 = tf.layers.max_pooling2d(conv1, 2, 2)\n",
    "        \n",
    "        conv2 = tf.layers.conv2d(pool1, filters=64, kernel_size=3, activation=tf.nn.relu)\n",
    "        pool2 = tf.layers.max_pooling2d(conv2, 2, 2)\n",
    "        \n",
    "        fc1 = tf.contrib.layers.flatten(pool2)\n",
    "        \n",
    "        fc1 = tf.layers.dense(fc1, 1024)\n",
    "        fc1 = tf.layers.dropout(fc1, rate=dropout, training=is_training)\n",
    "        \n",
    "        out = tf.layers.dense(fc1, n_classes)\n",
    "    return out"
   ]
  },
  {
   "cell_type": "code",
   "execution_count": 10,
   "metadata": {},
   "outputs": [],
   "source": [
    "def model_fn(features, labels, mode):\n",
    "    logits_train = conv_net(features, n_classes, dropout, reuse=False, is_training=True)\n",
    "    logits_test = conv_net(features, n_classes, dropout, reuse=True, is_training=False)\n",
    "    \n",
    "    # prediction\n",
    "    pred_classes = tf.argmax(logits_test, axis=1)\n",
    "    pred_prob = tf.nn.softmax(logits_test)\n",
    "    \n",
    "    if mode == tf.estimator.ModeKeys.PREDICT:\n",
    "        return tf.estimator.EstimatorSpec(mode, predictions=pred_classes)\n",
    "    \n",
    "    # define loss and optimizer\n",
    "    loss_op = tf.reduce_mean(\n",
    "        tf.nn.sparse_softmax_cross_entropy_with_logits(logits=logits_train, labels=tf.cast(labels, dtype=tf.int32))\n",
    "    )\n",
    "    optimizer = tf.train.AdamOptimizer(learning_rate=learning_rate)\n",
    "    train_op = optimizer.minimize(loss_op, global_step=tf.train.get_global_step())\n",
    "    \n",
    "    # evaluate the accuracy of the model\n",
    "    acc_op = tf.metrics.accuracy(labels=labels, predictions=pred_classes)\n",
    "    \n",
    "    estimator_specs = tf.estimator.EstimatorSpec(\n",
    "        mode=mode,\n",
    "        predictions=pred_classes,\n",
    "        loss=loss_op,\n",
    "        train_op=train_op,\n",
    "        eval_metric_ops={'accuracy': acc_op}\n",
    "    )\n",
    "    \n",
    "    return estimator_specs"
   ]
  },
  {
   "cell_type": "code",
   "execution_count": 11,
   "metadata": {},
   "outputs": [
    {
     "name": "stdout",
     "output_type": "stream",
     "text": [
      "INFO:tensorflow:Using default config.\n",
      "WARNING:tensorflow:Using temporary folder as model directory: /tmp/tmpvt4nw_iy\n",
      "INFO:tensorflow:Using config: {'_model_dir': '/tmp/tmpvt4nw_iy', '_tf_random_seed': None, '_save_summary_steps': 100, '_save_checkpoints_steps': None, '_save_checkpoints_secs': 600, '_session_config': allow_soft_placement: true\n",
      "graph_options {\n",
      "  rewrite_options {\n",
      "    meta_optimizer_iterations: ONE\n",
      "  }\n",
      "}\n",
      ", '_keep_checkpoint_max': 5, '_keep_checkpoint_every_n_hours': 10000, '_log_step_count_steps': 100, '_train_distribute': None, '_device_fn': None, '_protocol': None, '_eval_distribute': None, '_experimental_distribute': None, '_service': None, '_cluster_spec': <tensorflow.python.training.server_lib.ClusterSpec object at 0x7f3bfe2c4780>, '_task_type': 'worker', '_task_id': 0, '_global_id_in_cluster': 0, '_master': '', '_evaluation_master': '', '_is_chief': True, '_num_ps_replicas': 0, '_num_worker_replicas': 1}\n"
     ]
    }
   ],
   "source": [
    "# build the estimator\n",
    "model = tf.estimator.Estimator(model_fn)"
   ]
  },
  {
   "cell_type": "code",
   "execution_count": 12,
   "metadata": {},
   "outputs": [
    {
     "name": "stdout",
     "output_type": "stream",
     "text": [
      "INFO:tensorflow:Calling model_fn.\n",
      "INFO:tensorflow:Done calling model_fn.\n",
      "INFO:tensorflow:Create CheckpointSaverHook.\n",
      "INFO:tensorflow:Graph was finalized.\n",
      "INFO:tensorflow:Running local_init_op.\n",
      "INFO:tensorflow:Done running local_init_op.\n",
      "WARNING:tensorflow:From /home/penn000/.local/lib/python3.6/site-packages/tensorflow/python/training/monitored_session.py:804: start_queue_runners (from tensorflow.python.training.queue_runner_impl) is deprecated and will be removed in a future version.\n",
      "Instructions for updating:\n",
      "To construct input pipelines, use the `tf.data` module.\n",
      "INFO:tensorflow:Saving checkpoints for 0 into /tmp/tmpvt4nw_iy/model.ckpt.\n",
      "INFO:tensorflow:loss = 2.3067966, step = 1\n",
      "INFO:tensorflow:global_step/sec: 21.2689\n",
      "INFO:tensorflow:loss = 0.20670016, step = 101 (4.702 sec)\n",
      "INFO:tensorflow:global_step/sec: 22.2047\n",
      "INFO:tensorflow:loss = 0.09053618, step = 201 (4.503 sec)\n",
      "INFO:tensorflow:global_step/sec: 22.5966\n",
      "INFO:tensorflow:loss = 0.04310241, step = 301 (4.425 sec)\n",
      "INFO:tensorflow:global_step/sec: 22.1981\n",
      "INFO:tensorflow:loss = 0.08340771, step = 401 (4.505 sec)\n",
      "INFO:tensorflow:global_step/sec: 22.1271\n",
      "INFO:tensorflow:loss = 0.030523479, step = 501 (4.519 sec)\n",
      "INFO:tensorflow:global_step/sec: 22.2469\n",
      "INFO:tensorflow:loss = 0.11575784, step = 601 (4.495 sec)\n",
      "INFO:tensorflow:global_step/sec: 22.2937\n",
      "INFO:tensorflow:loss = 0.078127205, step = 701 (4.486 sec)\n",
      "INFO:tensorflow:global_step/sec: 22.6678\n",
      "INFO:tensorflow:loss = 0.059974797, step = 801 (4.412 sec)\n",
      "INFO:tensorflow:global_step/sec: 22.4941\n",
      "INFO:tensorflow:loss = 0.03080056, step = 901 (4.445 sec)\n",
      "INFO:tensorflow:global_step/sec: 22.5917\n",
      "INFO:tensorflow:loss = 0.0033326533, step = 1001 (4.426 sec)\n",
      "INFO:tensorflow:global_step/sec: 22.5865\n",
      "INFO:tensorflow:loss = 0.00757643, step = 1101 (4.427 sec)\n",
      "INFO:tensorflow:global_step/sec: 22.5558\n",
      "INFO:tensorflow:loss = 0.032361295, step = 1201 (4.434 sec)\n",
      "INFO:tensorflow:global_step/sec: 22.3094\n",
      "INFO:tensorflow:loss = 0.03580497, step = 1301 (4.482 sec)\n",
      "INFO:tensorflow:global_step/sec: 22.229\n",
      "INFO:tensorflow:loss = 0.06260971, step = 1401 (4.499 sec)\n",
      "INFO:tensorflow:global_step/sec: 22.5386\n",
      "INFO:tensorflow:loss = 0.09615076, step = 1501 (4.437 sec)\n",
      "INFO:tensorflow:global_step/sec: 22.5399\n",
      "INFO:tensorflow:loss = 0.016132064, step = 1601 (4.437 sec)\n",
      "INFO:tensorflow:global_step/sec: 22.5056\n",
      "INFO:tensorflow:loss = 0.031597108, step = 1701 (4.443 sec)\n",
      "INFO:tensorflow:global_step/sec: 22.3856\n",
      "INFO:tensorflow:loss = 0.012273422, step = 1801 (4.467 sec)\n",
      "INFO:tensorflow:global_step/sec: 22.5015\n",
      "INFO:tensorflow:loss = 0.045733593, step = 1901 (4.445 sec)\n",
      "INFO:tensorflow:Saving checkpoints for 2000 into /tmp/tmpvt4nw_iy/model.ckpt.\n",
      "INFO:tensorflow:Loss for final step: 0.0026570724.\n"
     ]
    },
    {
     "data": {
      "text/plain": [
       "<tensorflow.python.estimator.estimator.Estimator at 0x7f3bfe2c4198>"
      ]
     },
     "execution_count": 12,
     "metadata": {},
     "output_type": "execute_result"
    }
   ],
   "source": [
    "input_fn = tf.estimator.inputs.numpy_input_fn(\n",
    "    x={'images': mnist.train.images},\n",
    "    y=mnist.train.labels,\n",
    "    batch_size=batch_size,\n",
    "    num_epochs=None,\n",
    "    shuffle=True\n",
    ")\n",
    "\n",
    "model.train(input_fn, steps=n_steps)"
   ]
  },
  {
   "cell_type": "code",
   "execution_count": null,
   "metadata": {},
   "outputs": [],
   "source": [
    "# evaluate the model\n",
    "input_fn = tf.estimator.inputs.numpy_input_fn(\n",
    "    x={'images': mnist.test.images},\n",
    "    y=mnist.test.labels,\n",
    "    batch_size=batch_size,\n",
    "    shuffle=False\n",
    ")\n",
    "\n",
    "model.evaluate(input_fn)"
   ]
  }
 ],
 "metadata": {
  "kernelspec": {
   "display_name": "Python 3",
   "language": "python",
   "name": "python3"
  },
  "language_info": {
   "codemirror_mode": {
    "name": "ipython",
    "version": 3
   },
   "file_extension": ".py",
   "mimetype": "text/x-python",
   "name": "python",
   "nbconvert_exporter": "python",
   "pygments_lexer": "ipython3",
   "version": "3.6.7"
  }
 },
 "nbformat": 4,
 "nbformat_minor": 2
}
