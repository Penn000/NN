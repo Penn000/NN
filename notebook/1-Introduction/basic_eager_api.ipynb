{
 "cells": [
  {
   "cell_type": "markdown",
   "metadata": {},
   "source": [
    "# TensorFlow's Eager API\n",
    "动态图机制\n",
    "\n",
    "TensorFlow Eager 可以让你像使用 Numpy 那样轻松地构建神经网络，其巨大优势是提供了自动微分（无需再手书反向传播）。它还可以在 GPU 上运行，使神经网络训练速度明显加快。\n",
    "\n",
    "谷歌大脑的开发团队曾表示，Eager Execution 的主要优点如下：\n",
    "\n",
    "- 快速调试即刻的运行错误并通过 Python 工具进行整合\n",
    "\n",
    "- 借助易于使用的 Python 控制流支持动态模型\n",
    "\n",
    "- 为自定义和高阶梯度提供强大支持\n",
    "\n",
    "- 适用于几乎所有可用的 TensorFlow 运算"
   ]
  },
  {
   "cell_type": "code",
   "execution_count": 1,
   "metadata": {},
   "outputs": [],
   "source": [
    "from __future__ import absolute_import, division, print_function"
   ]
  },
  {
   "cell_type": "markdown",
   "metadata": {},
   "source": [
    "1. absolute_import模块\n",
    "\n",
    "```\n",
    "from __future__ import absolute_import\n",
    "```\n",
    "\n",
    "在python2.4以前，默认的是相对引入，程序会首先在当前目录下查找目标模块，如果找不到才会去系统的默认目录中查找。这样就可能遇到问题，比如：程序的包结构是这样的，\n",
    "\n",
    "```\n",
    "pkg/\n",
    "pkg/init.py\n",
    "pkg/main.py\n",
    "pkg/string.py\n",
    "```\n",
    "\n",
    "如果在main.py中调用import string，那么Python就会首先在当前目录下查找 string.py。若找到就会引入该模块。但是如果你想引入的是系统自带的标准string.py，这时候就需要提前调用from __future__ import absolute_import 了。这样的话，就可以用import string 来引入系统的标准string.py模块，利用from pkg import string引入当前目录下的string.py了。\n",
    "\n",
    "2. division模块\n",
    "在Python 2.x中，对于除法有两种情况，如果是整数相除，结果仍是整数，余数会被扔掉，这种除法叫“地板除”：\n",
    "\n",
    "```\n",
    ">>> 3/10\n",
    "0\n",
    ">>> 3/10.0\n",
    "0.3\n",
    "```\n",
    "\n",
    "而在Python 3.x中，所有的除法都是精确除法，地板除用//表示：\n",
    "\n",
    "```\n",
    ">>> 3/10\n",
    "0.3\n",
    ">>> 3//10\n",
    "0\n",
    "```\n",
    "\n",
    "要想在Python 2.x中使用Python 3.x的除法，可以通过__future__模块的division实现：\n",
    "\n",
    "```\n",
    ">>> from __future__ import division\n",
    ">>> 3/10\n",
    "0.3\n",
    ">>> 3//10\n",
    "0\n",
    "```\n",
    "\n",
    "3. print_function模块\n",
    "在Python 2.x中，print方法后面既可以不加括号，又可以像函数一样添加括号。\n",
    "\n",
    "```\n",
    "print \"hello, world!\"\n",
    "print(\"hello, world!\")\n",
    "```\n",
    "\n",
    "但是在Python 3中，print方法仅作为一个函数使用，上面的第一种调用方法会报错。当我们想所有的print方法统一只能像函数一样调用时，就需要调用\n",
    "\n",
    "```\n",
    "from __future__ import print_function\n",
    "```"
   ]
  },
  {
   "cell_type": "code",
   "execution_count": 2,
   "metadata": {},
   "outputs": [],
   "source": [
    "import tensorflow as tf\n",
    "import numpy as np"
   ]
  },
  {
   "cell_type": "code",
   "execution_count": 3,
   "metadata": {},
   "outputs": [
    {
     "name": "stdout",
     "output_type": "stream",
     "text": [
      "set Eager mode\n"
     ]
    }
   ],
   "source": [
    "print('set Eager mode')\n",
    "tf.enable_eager_execution()\n",
    "tfe = tf.contrib.eager"
   ]
  },
  {
   "cell_type": "code",
   "execution_count": 7,
   "metadata": {},
   "outputs": [
    {
     "name": "stdout",
     "output_type": "stream",
     "text": [
      "define constant tensors\n",
      "a: tf.Tensor(2, shape=(), dtype=int32)\n",
      "a = 2\n",
      "b: tf.Tensor(3, shape=(), dtype=int32)\n",
      "b = 3\n"
     ]
    }
   ],
   "source": [
    "print('define constant tensors')\n",
    "a = tf.constant(2)\n",
    "print('a:', a)\n",
    "print('a = %i' % a)\n",
    "b = tf.constant(3)\n",
    "print('b:', b)\n",
    "print('b = %i' % b)"
   ]
  },
  {
   "cell_type": "code",
   "execution_count": 10,
   "metadata": {},
   "outputs": [
    {
     "name": "stdout",
     "output_type": "stream",
     "text": [
      "running operation without tf.Session\n",
      "c = 5\n",
      "a * b = 6\n"
     ]
    }
   ],
   "source": [
    "print('running operation without tf.Session')\n",
    "c = a + b\n",
    "print('c = %i' % c)\n",
    "print('a * b = %i' % (a * b))"
   ]
  },
  {
   "cell_type": "code",
   "execution_count": 12,
   "metadata": {},
   "outputs": [
    {
     "name": "stdout",
     "output_type": "stream",
     "text": [
      "tensor:\n",
      "a = tf.Tensor(\n",
      "[[1. 2.]\n",
      " [3. 4.]], shape=(2, 2), dtype=float32)\n",
      "\n",
      "array:\n",
      "b = [[5. 6.]\n",
      " [7. 8.]]\n"
     ]
    }
   ],
   "source": [
    "mat1 = tf.constant([\n",
    "    [1., 2.],\n",
    "    [3., 4.]\n",
    "], dtype=tf.float32)\n",
    "print('tensor:')\n",
    "print('a = %s' % mat1)\n",
    "print('')\n",
    "mat2 = np.array([\n",
    "    [5., 6.],\n",
    "    [7., 8.]\n",
    "], dtype=np.float32)\n",
    "print('array:')\n",
    "print('b = %s' % mat2)"
   ]
  },
  {
   "cell_type": "code",
   "execution_count": 13,
   "metadata": {},
   "outputs": [
    {
     "name": "stdout",
     "output_type": "stream",
     "text": [
      "mat1 + mat2 = tf.Tensor(\n",
      "[[ 6.  8.]\n",
      " [10. 12.]], shape=(2, 2), dtype=float32)\n",
      "mat1 * mat2 = tf.Tensor(\n",
      "[[19. 22.]\n",
      " [43. 50.]], shape=(2, 2), dtype=float32)\n"
     ]
    }
   ],
   "source": [
    "mat3 = mat1 + mat2\n",
    "print('mat1 + mat2 = %s' % mat3)\n",
    "\n",
    "mat4 = tf.matmul(mat1, mat2)\n",
    "print('mat1 * mat2 = %s' % mat4)"
   ]
  },
  {
   "cell_type": "code",
   "execution_count": 14,
   "metadata": {},
   "outputs": [
    {
     "name": "stdout",
     "output_type": "stream",
     "text": [
      "Iterate through tensor mat:\n",
      "tf.Tensor(1.0, shape=(), dtype=float32)\n",
      "tf.Tensor(2.0, shape=(), dtype=float32)\n",
      "tf.Tensor(3.0, shape=(), dtype=float32)\n",
      "tf.Tensor(4.0, shape=(), dtype=float32)\n"
     ]
    }
   ],
   "source": [
    "print('Iterate through tensor mat:')\n",
    "for i in range(mat1.shape[0]):\n",
    "    for j in range(mat1.shape[1]):\n",
    "        print(mat1[i][j])"
   ]
  }
 ],
 "metadata": {
  "kernelspec": {
   "display_name": "Python 3",
   "language": "python",
   "name": "python3"
  },
  "language_info": {
   "codemirror_mode": {
    "name": "ipython",
    "version": 3
   },
   "file_extension": ".py",
   "mimetype": "text/x-python",
   "name": "python",
   "nbconvert_exporter": "python",
   "pygments_lexer": "ipython3",
   "version": "3.6.7"
  }
 },
 "nbformat": 4,
 "nbformat_minor": 2
}
